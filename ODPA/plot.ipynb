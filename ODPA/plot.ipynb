{
 "cells": [
  {
   "cell_type": "code",
   "execution_count": 2,
   "metadata": {},
   "outputs": [],
   "source": [
    "import numpy as np\n",
    "import matplotlib.pyplot as plt\n",
    "from matplotlib import pylab\n",
    "from brokenaxes import brokenaxes"
   ]
  },
  {
   "cell_type": "code",
   "execution_count": 2,
   "metadata": {},
   "outputs": [],
   "source": [
    "def get_r(mean, std):\n",
    "    r1 = list(map(lambda x: x[0]-x[1], zip(mean, std)))\n",
    "    r2 = list(map(lambda x: x[0]+x[1], zip(mean, std))) \n",
    "    return r1, r2"
   ]
  },
  {
   "cell_type": "code",
   "execution_count": 48,
   "metadata": {},
   "outputs": [],
   "source": [
    "non_acc = np.array([0.1004, 0.1065, 0.0822, 0.1043, 0.1049])\n",
    "sel_acc = np.array([0.9986, 0.9990, 0.9980, 0.9984, 0.9977])\n",
    "both_acc = np.array([0.9984, 0.9979, 0.9978, 0.9987, 0.9982])\n",
    "dis_sel_acc = np.array([0.9898, 0.9883, 0.9867, 0.9863, 0.9883])\n",
    "dis_non_acc = np.array([0.0164, 0.0242, 0.0176, 0.0250, 0.0199])\n",
    "dis_both_acc = np.array([0.9895, 0.9902, 0.9883, 0.9871, 0.9863])\n",
    "class_sel_acc = np.array([0.9992, 0.9988, 0.9969, 0.9988, 0.9996])\n",
    "class_non_acc = np.array([0.0664, 0.0574, 0.0738, 0.0422, 0.0738])\n",
    "class_both_acc = np.array([0.9992, 0.9996, 0.9980, 0.9984, 0.9992])\n",
    "fig = pylab.figure()\n",
    "ax = fig.add_subplot(111)\n",
    "\n",
    "#设置误差标记参数\n",
    "steps = np.linspace(0, 1, 2) \n",
    "error_params=dict(elinewidth=3,ecolor='black',capsize=5)\n",
    "xname = ['Class Acc', 'Desision Acc']\n",
    "bar_width=0.2\n",
    "#绘制柱状图\n",
    "ax.bar(steps[0], np.mean(class_both_acc), bar_width, color='red',yerr=np.std(class_both_acc), edgecolor='black', error_kw=error_params, label='All neurons')\n",
    "ax.bar(steps[0]+bar_width, np.mean(class_sel_acc), bar_width, color='blue',yerr=np.std(class_sel_acc), edgecolor='black', error_kw=error_params, label='Selective neurons')#label='Class Acc(Selective neurons)'\n",
    "ax.bar(steps[0]+2*bar_width, np.mean(class_non_acc), bar_width,  color='green',yerr=np.std(class_non_acc), edgecolor='black', error_kw=error_params, label='Non-Selective neurons')#,label='Class Acc(Non-Selective neurons)'\n",
    "ax.bar(steps[1], np.mean(dis_both_acc), bar_width,  color='red',yerr=np.std(dis_sel_acc), edgecolor='black', error_kw=error_params)#label='Decision Acc(All neurons)'\n",
    "ax.bar(steps[1]+bar_width, np.mean(dis_sel_acc), bar_width, color='blue',yerr=np.std(dis_sel_acc), edgecolor='black', error_kw=error_params)#label='Decision Acc(Selective neurons)'\n",
    "ax.bar(steps[1]+2*bar_width, np.mean(dis_non_acc), bar_width,color='green',yerr=np.std(dis_non_acc), edgecolor='black', error_kw=error_params)#label='Decision Acc(Non-Selective neurons)'\n",
    "plt.xticks(steps+bar_width, xname)\n",
    "## 设置坐标轴是否可见\n",
    "ax.spines['top'].set_visible(False)\n",
    "ax.spines['right'].set_visible(False)\n",
    "# ax.axes.get_xaxis().set_visible(False)\n",
    "# ax.tick_params(labeltop=False) #最上面不显示刻度\n",
    "plt.legend()\n",
    "# ax.set_yticks(np.linspace(0, 1, 11))\n",
    "# ax.set_yticklabels(['0.', '0.1', '0.2', '...', '0.8', '0.9', '1.']) \n",
    "# bax = brokenaxes(ylims=((0, 0.2), (0.8, 1)), hspace=.05, despine=False)\n",
    "plt.savefig('./sel_acc_bar' + '.pdf') #, dpi=300\n",
    "plt.close()"
   ]
  },
  {
   "cell_type": "code",
   "execution_count": null,
   "metadata": {},
   "outputs": [],
   "source": []
  },
  {
   "cell_type": "code",
   "execution_count": 25,
   "metadata": {},
   "outputs": [
    {
     "name": "stderr",
     "output_type": "stream",
     "text": [
      "No artists with labels found to put in legend.  Note that artists whose label start with an underscore are ignored when legend() is called with no argument.\n"
     ]
    }
   ],
   "source": [
    "import numpy as np\n",
    "import matplotlib.pyplot as plt\n",
    "from matplotlib import pylab\n",
    "from brokenaxes import brokenaxes\n",
    "non_acc = np.array([0.1004, 0.1065, 0.0822, 0.1043, 0.1049])\n",
    "sel_acc = np.array([0.9986, 0.9990, 0.9980, 0.9984, 0.9977])\n",
    "both_acc = np.array([0.9984, 0.9979, 0.9978, 0.9987, 0.9982])\n",
    "dis_sel_acc = np.array([0.9498, 0.9483, 0.9467, 0.9463, 0.9483])\n",
    "dis_non_acc = np.array([0.0164, 0.0242, 0.0176, 0.0250, 0.0199])\n",
    "dis_both_acc = np.array([0.9595, 0.9602, 0.9583, 0.9571, 0.9663])\n",
    "class_sel_acc = np.array([0.9492, 0.9488, 0.9469, 0.9488, 0.9496])\n",
    "class_non_acc = np.array([0.0664, 0.0574, 0.0738, 0.0422, 0.0738])\n",
    "class_both_acc = np.array([0.9992, 0.9996, 0.9980, 0.9984, 0.9992])\n",
    "plt.figure(figsize=(8, 10))\n",
    "# ax = fig.add_subplot(111)\n",
    "\n",
    "#设置误差标记参数\n",
    "steps = np.linspace(0, 2, 3) \n",
    "error_params=dict(elinewidth=3,ecolor='black',capsize=5)\n",
    "xname = ['All', 'Selective', 'Non-Selective']\n",
    "ylabel = 'Decision Accuracy'\n",
    "bar_width=0.5\n",
    "#绘制柱状图\n",
    "# ax.bar(steps[0], np.mean(class_both_acc), bar_width, color='red',yerr=np.std(class_both_acc), edgecolor='black', error_kw=error_params, label='All neurons')\n",
    "# ax.bar(steps[0]+bar_width, np.mean(class_sel_acc), bar_width, color='blue',yerr=np.std(class_sel_acc), edgecolor='black', error_kw=error_params, label='Selective neurons')#label='Class Acc(Selective neurons)'\n",
    "# ax.bar(steps[0]+2*bar_width, np.mean(class_non_acc), bar_width,  color='green',yerr=np.std(class_non_acc), edgecolor='black', error_kw=error_params, label='Non-Selective neurons')#,label='Class Acc(Non-Selective neurons)'\n",
    "plt.bar(steps[0], np.mean(dis_both_acc), bar_width,  color='red',yerr=np.std(dis_sel_acc), edgecolor='black', error_kw=error_params)#label='Decision Acc(All neurons)'\n",
    "plt.bar(steps[1], np.mean(dis_sel_acc), bar_width, color='blue',yerr=np.std(dis_sel_acc), edgecolor='black', error_kw=error_params)#label='Decision Acc(Selective neurons)'\n",
    "plt.bar(steps[2], np.mean(dis_non_acc), bar_width,color='green',yerr=np.std(dis_non_acc), edgecolor='black', error_kw=error_params)#label='Decision Acc(Non-Selective neurons)'\n",
    "plt.xticks(steps, xname, fontsize=20)\n",
    "plt.yticks(fontsize=20)\n",
    "plt.ylabel(ylabel, fontsize=20)\n",
    "plt.xlabel('Neuron type', fontsize=20)\n",
    "## 设置坐标轴是否可见\n",
    "# ax.spines['top'].set_visible(False)\n",
    "# ax.spines['right'].set_visible(False)\n",
    "# ax.axes.get_xaxis().set_visible(False)\n",
    "# ax.tick_params(labeltop=False) #最上面不显示刻度\n",
    "plt.legend()\n",
    "# ax.set_yticks(np.linspace(0, 1, 11))\n",
    "# ax.set_yticklabels(['0.', '0.1', '0.2', '...', '0.8', '0.9', '1.']) \n",
    "# bax = brokenaxes(ylims=((0, 0.2), (0.8, 1)), hspace=.05, despine=False)\n",
    "plt.savefig('./sel_acc_bar' + '.pdf', dpi=300) #, dpi=300\n",
    "plt.close()"
   ]
  },
  {
   "cell_type": "code",
   "execution_count": 6,
   "metadata": {},
   "outputs": [
    {
     "data": {
      "text/plain": [
       "(0.0014483093592185493, 0.0012592060990957812, 0.0034481299279464513)"
      ]
     },
     "execution_count": 6,
     "metadata": {},
     "output_type": "execute_result"
    }
   ],
   "source": [
    "dis_sel_acc = np.array([0.9898, 0.9883, 0.9867, 0.9863, 0.9883])\n",
    "dis_non_acc = np.array([0.0164, 0.0242, 0.0176, 0.0250, 0.0199])\n",
    "dis_both_acc = np.array([0.9895, 0.9902, 0.9883, 0.9871, 0.9863])\n",
    "np.std(dis_both_acc), np.std(dis_sel_acc),np.std(dis_non_acc)"
   ]
  },
  {
   "cell_type": "code",
   "execution_count": 23,
   "metadata": {},
   "outputs": [
    {
     "data": {
      "image/png": "[encoded data removed]",
      "text/plain": [
       "<Figure size 432x216 with 1 Axes>"
      ]
     },
     "metadata": {},
     "output_type": "display_data"
    }
   ],
   "source": [
    " # Pie chart, where the slices will be ordered and plotted counter-clockwise:\n",
    "labels = ['Odor0 Selective', 'Both Selective', 'Odor1 Selective', 'Non Selective']\n",
    "sizes = [138, 91, 273+98]  \n",
    "explode = (0.1, 0.1, 0)  # only \"explode\" the 2nd slice (i.e. 'Hogs')\n",
    "fig1, ax1 = plt.subplots(figsize=(6, 3), subplot_kw=dict(aspect=\"equal\"))\n",
    "# ax1.pie(sizes, explode=explode, labels=labels, autopct='%1.1f%%',colors=['gold', 'cornflowerblue', 'forestgreen', 'blueviolet'],\n",
    "#         shadow=True, startangle=90)\n",
    "patches = ax1.pie(sizes, autopct='%1.1f%%', colors=['gold', 'cornflowerblue', 'forestgreen', 'blueviolet'],startangle=90)\n",
    "ax1.legend(labels,loc=\"best\")\n",
    "ax1.axis('equal')  # Equal aspect ratio ensures that pie is drawn as a circle.\n",
    "plt.savefig('sel_bar.pdf', dpi=300)\n",
    "plt.show()\n",
    "plt.close()"
   ]
  },
  {
   "cell_type": "code",
   "execution_count": 3,
   "metadata": {},
   "outputs": [
    {
     "data": {
      "image/png": "[encoded data removed]",
      "text/plain": [
       "<Figure size 432x288 with 1 Axes>"
      ]
     },
     "metadata": {
      "needs_background": "light"
     },
     "output_type": "display_data"
    }
   ],
   "source": [
    "import numpy as np\n",
    "import matplotlib.pyplot as plt\n",
    "acc_dis = np.loadtxt('./data/acc.txt')\n",
    "steps = np.linspace(0, 60, 61)\n",
    "plt.figure()\n",
    "plt.plot(steps, acc_dis)\n",
    "plt.show()"
   ]
  },
  {
   "cell_type": "code",
   "execution_count": 6,
   "metadata": {},
   "outputs": [
    {
     "data": {
      "text/plain": [
       "4.0943445622220995"
      ]
     },
     "execution_count": 6,
     "metadata": {},
     "output_type": "execute_result"
    }
   ],
   "source": [
    "from scipy.stats import entropy\n",
    "import numpy as np\n",
    "entrpy_bins = 60\n",
    "entropy(np.ones(entrpy_bins)*600/entrpy_bins)"
   ]
  },
  {
   "cell_type": "code",
   "execution_count": 18,
   "metadata": {},
   "outputs": [],
   "source": [
    "import numpy as np\n",
    "import matplotlib.pyplot as plt\n",
    "steps = np.linspace(0, 5, 6) \n",
    "# f, ax = plt.subplots(1, 1)\n",
    "plt.figure(figsize=(8, 10))\n",
    "#设置误差标记参数\n",
    "error_params=dict(elinewidth=3,ecolor='black',capsize=5)\n",
    "bar_width=0.5\n",
    "#绘制柱状图\n",
    "plt.bar(1, 0.998, bar_width, color='green',yerr=0.002, edgecolor='black', error_kw=error_params,)\n",
    "plt.bar(2, 0.996, bar_width, color='red',yerr=0.003, edgecolor='black', error_kw=error_params,)\n",
    "plt.bar(3, 0.512, bar_width, color='blue',yerr=0.051, edgecolor='black', error_kw=error_params,)\n",
    "x_label=['Mathematical TT','Biological TT','Without TT']\n",
    "plt.xticks([1, 2, 3], x_label, fontsize=20)#绘制x刻度标签\n",
    "plt.yticks(fontsize=15)\n",
    "plt.ylabel('Decision Accuracy', fontsize=20)\n",
    "plt.savefig('./contrast.pdf', dpi=300)\n",
    "plt.close()"
   ]
  },
  {
   "cell_type": "code",
   "execution_count": 11,
   "metadata": {},
   "outputs": [
    {
     "data": {
      "image/png": "[encoded data removed]",
      "text/plain": [
       "<Figure size 432x288 with 1 Axes>"
      ]
     },
     "metadata": {
      "needs_background": "light"
     },
     "output_type": "display_data"
    }
   ],
   "source": [
    "import matplotlib.pyplot as plt\n",
    "import numpy as np\n",
    "step = np.array([0.1, 0.2, 0.3, 0.4, 0.5, 1])\n",
    "x1 = np.array([0.999, 0.97, 0.59, 0.51, 0.52, 0.49])\n",
    "x2 = np.array([0.999, 0.975, 0.628, 0.390, 0.207, 0.005])\n",
    "fig = plt.figure()\n",
    "plt.plot(step, x1, color='red', label='Ours')\n",
    "plt.plot(step, x2, color='blue', label='NON')\n",
    "plt.xlabel('Input noise std')\n",
    "plt.ylabel('Acc')\n",
    "plt.legend()\n",
    "plt.savefig('./input_noise.pdf', dpi=300)"
   ]
  },
  {
   "cell_type": "code",
   "execution_count": 5,
   "metadata": {},
   "outputs": [
    {
     "data": {
      "text/plain": [
       "((600,), 0.10739483333333333, 0.02361428642380615)"
      ]
     },
     "execution_count": 5,
     "metadata": {},
     "output_type": "execute_result"
    }
   ],
   "source": []
  },
  {
   "cell_type": "code",
   "execution_count": 4,
   "metadata": {},
   "outputs": [],
   "source": [
    "import numpy as np\n",
    "import matplotlib.pyplot as plt\n",
    "acc0 = np.array([0.909375, 0.9328125, 0.9109375, 0.9546875, 0.953125, 0.93125, 0.9125, 0.94375, 0.8484375])\n",
    "acc1 = np.array([0.70625, 0.5156, 0.53, 0.53, 0.54, 0.53, 0.54, 0.51])\n",
    "delay0 = np.linspace(0, 8, 9)\n",
    "delay1 = np.linspace(0, 6, 7)\n",
    "plt.figure()\n",
    "plt.plot(delay0, acc0, label='CE Loss+Self-Inhibtion+Hier')\n",
    "plt.plot(delay1, acc1, label='CE Loss')\n",
    "plt.xlabel('Delay period/s')\n",
    "plt.ylabel('Decision Accuracy')\n",
    "plt.legend()\n",
    "plt.savefig('Decision Acc0.pdf')\n",
    "plt.close()"
   ]
  },
  {
   "cell_type": "code",
   "execution_count": 11,
   "metadata": {},
   "outputs": [],
   "source": []
  },
  {
   "cell_type": "code",
   "execution_count": 18,
   "metadata": {},
   "outputs": [],
   "source": [
    "x1 = np.array([126, 121, 128, 121])\n",
    "x2 = np.array([103, 101, 100, 98])\n",
    "x3 = np.array([113, 113, 110, 108])\n",
    "x1_m = np.mean(x1)\n",
    "x1_s = np.std(x1)\n",
    "x3_m = np.mean(x2)\n",
    "x3_s = np.std(x2)\n",
    "x2_m = np.mean(x3)\n",
    "x2_s = np.std(x3)"
   ]
  },
  {
   "cell_type": "code",
   "execution_count": 20,
   "metadata": {},
   "outputs": [
    {
     "data": {
      "text/plain": [
       "array([0.01541104, 0.0106066 , 0.00901388])"
      ]
     },
     "execution_count": 20,
     "metadata": {},
     "output_type": "execute_result"
    }
   ],
   "source": [
    "np.array([x1_s, x2_s, x3_s])/200"
   ]
  },
  {
   "cell_type": "code",
   "execution_count": 22,
   "metadata": {},
   "outputs": [],
   "source": [
    "import numpy as np\n",
    "import matplotlib.pyplot as plt\n",
    "steps = np.linspace(0, 5, 6) \n",
    "# f, ax = plt.subplots(1, 1)\n",
    "plt.figure(figsize=(8, 10))\n",
    "#设置误差标记参数\n",
    "error_params=dict(elinewidth=3,ecolor='black',capsize=5)\n",
    "bar_width=0.5\n",
    "#绘制柱状图\n",
    "plt.bar(1, x1_m/200, bar_width, color='green',yerr=x1_s/200, edgecolor='black', error_kw=error_params,)\n",
    "plt.bar(2, x3_m/200, bar_width, color='red',yerr=x3_s/200, edgecolor='black', error_kw=error_params,)\n",
    "plt.bar(3, x2_m/200, bar_width, color='blue',yerr=x2_s/200, edgecolor='black', error_kw=error_params,)\n",
    "x_label=['Sensor','Association','Motor']\n",
    "plt.xticks([1, 2, 3], x_label, fontsize=20)#绘制x刻度标签\n",
    "plt.yticks(fontsize=20)\n",
    "plt.savefig('./selective_propo.pdf', dpi=300)\n",
    "plt.close()"
   ]
  },
  {
   "cell_type": "code",
   "execution_count": 31,
   "metadata": {},
   "outputs": [
    {
     "data": {
      "text/plain": [
       "array([[ 1,  4],\n",
       "       [ 4, 25]])"
      ]
     },
     "execution_count": 31,
     "metadata": {},
     "output_type": "execute_result"
    }
   ],
   "source": [
    "x = np.array([[1,2],[2,5]])\n",
    "x**2"
   ]
  },
  {
   "cell_type": "code",
   "execution_count": 21,
   "metadata": {},
   "outputs": [],
   "source": [
    "import numpy as np\n",
    "import matplotlib.pyplot as plt\n",
    "from brokenaxes import brokenaxes\n",
    "# bax = brokenaxes(ylims=((0, 50), (1000, 4000)), hspace=.03, despine=False)\n",
    "h2_our = np.log10(np.array([160, 108]))\n",
    "h2_van = np.log10(np.array([3077, 3700]))\n",
    "h2_our05 = np.log10(np.array([9.0, 8.1]))\n",
    "steps = np.linspace(0, 1, 2) \n",
    "# f, ax = plt.subplots(1, 1)\n",
    "plt.figure(figsize=(8, 10))\n",
    "#设置误差标记参数\n",
    "error_params=dict(elinewidth=2, ecolor='black',capsize=4)\n",
    "bar_width=0.2\n",
    "#绘制柱状图\n",
    "plt.bar(steps, h2_van, bar_width, color='blue',yerr=[0.11, 0.07], edgecolor='black', error_kw=error_params, label='Vanilla')\n",
    "plt.bar(steps+bar_width, h2_our, bar_width, color='red',yerr=[0.08, 0.06], edgecolor='black', error_kw=error_params, label='Ours')\n",
    "# plt.bar(steps+2*bar_width, h2_our05, bar_width, color='orange',yerr=[0.05, 0.04], edgecolor='black', error_kw=error_params, label='Ours m=0.5')\n",
    "x_label=['All period','Delay perfiod']\n",
    "plt.xticks([0+bar_width/2, 1+bar_width/2], x_label, fontsize=20)#绘制x刻度标签\n",
    "y_label=['$ \\mathit{10}^{0}$','$ \\mathit{10}^{1}$', '$ \\mathit{10}^{2}$', '$ \\mathit{10}^{3}$', '$ \\mathit{10}^{4}$']\n",
    "plt.yticks([0, 1, 2, 3, 4], y_label, fontsize=20)\n",
    "plt.legend()\n",
    "plt.savefig('./energy.pdf', dpi=300)\n",
    "plt.close()\n"
   ]
  },
  {
   "cell_type": "code",
   "execution_count": 17,
   "metadata": {},
   "outputs": [
    {
     "data": {
      "text/plain": [
       "array([886.94390481,  32.36230836, 647.12091257,  16.00059241])"
      ]
     },
     "execution_count": 17,
     "metadata": {},
     "output_type": "execute_result"
    }
   ],
   "source": [
    "np.log10([3077, 160, 3700, 108])\n",
    "x = np.array([3.4881275, 2.20411998, 3.56820172, 2.03342376])+np.array([0.11, 0.08, 0.07, 0.06])\n",
    "10**x-[3077, 160, 3700, 108]"
   ]
  },
  {
   "cell_type": "code",
   "execution_count": null,
   "metadata": {},
   "outputs": [],
   "source": []
  },
  {
   "cell_type": "code",
   "execution_count": 19,
   "metadata": {},
   "outputs": [
    {
     "data": {
      "text/plain": [
       "<Figure size 432x288 with 0 Axes>"
      ]
     },
     "metadata": {},
     "output_type": "display_data"
    }
   ],
   "source": [
    "import numpy as np\n",
    "import matplotlib.pyplot as plt\n",
    "acc_loss = np.array([0.97, 0.978, 0.99, 0.99, 1])\n",
    "acct = np.array([0.5269, 0.712, 0.9429,  0.9568]) #0.9422,\n",
    "accf = np.array([0.9313, 0.5609, 0.492,  0.514]) #0.5049,\n",
    "step = np.array([90, 150, 300, 600])#0.5049,\n",
    "steps = np.linspace(0, 3, 4)\n",
    "plt.figure()\n",
    "plt.figure(figsize=(12, 8))\n",
    "#设置误差标记参数\n",
    "error_params=dict(elinewidth=2,ecolor='black',capsize=4)\n",
    "bar_width=0.3\n",
    "# plt.plot(step, acct, label='CE Loss+Self-Inhibtion+Hier')\n",
    "# plt.plot(step, accf, label='CE Loss')\n",
    "# plt.plot(step, acc_loss, label='CE Loss+Weight Loss+Spike Loss')\n",
    "# plt.bar(steps, acct, acc_loss, color='blue',yerr=, edgecolor='black', error_kw=error_params, label='Vanilla')\n",
    "plt.bar(steps, acct, bar_width, color='red',yerr=[0.052, 0.082, 0.011, 0.006], edgecolor='black', error_kw=error_params, label='Ours')\n",
    "plt.bar(steps+bar_width, accf, bar_width, color='blue',yerr=[0.006, 0.041, 0.043, 0.052], edgecolor='black', error_kw=error_params, label='Vanilla')\n",
    "\n",
    "plt.xlabel('Number of hidden neurons', fontsize=20)\n",
    "plt.ylabel('Decision Accuracy', fontsize=20)\n",
    "plt.legend()\n",
    "x_label=['90','180', '300', '600']\n",
    "plt.xticks([0+bar_width/2, 1+bar_width/2, 2+bar_width/2, 3+bar_width/2], x_label, fontsize=15)#绘制x刻度标签\n",
    "plt.yticks(fontsize=20)\n",
    "# plt.xticks([90, 150, 300, 450, 600])\n",
    "plt.savefig('Acc_num.pdf', dpi=300)\n",
    "plt.close()\n"
   ]
  },
  {
   "cell_type": "code",
   "execution_count": 69,
   "metadata": {},
   "outputs": [
    {
     "data": {
      "text/plain": [
       "<Figure size 432x288 with 0 Axes>"
      ]
     },
     "metadata": {},
     "output_type": "display_data"
    }
   ],
   "source": [
    "import numpy as np\n",
    "import matplotlib.pyplot as plt\n",
    "accf = np.array([0.989, 0.651, 0.502, 0.482]) #0.9422, # 0.511,\n",
    "acct = np.array([0.9743, 0.9423, 0.9321, 0.9469]) #0.5049, #0.9112,\n",
    "steps = np.linspace(0, 3, 4)\n",
    "plt.figure()\n",
    "plt.figure(figsize=(12, 8))\n",
    "#设置误差标记参数\n",
    "error_params=dict(elinewidth=2,ecolor='black',capsize=4)\n",
    "bar_width=0.3\n",
    "# plt.plot(step, acct, label='CE Loss+Self-Inhibtion+Hier')\n",
    "# plt.plot(step, accf, label='CE Loss')\n",
    "# plt.plot(step, acc_loss, label='CE Loss+Weight Loss+Spike Loss')\n",
    "# plt.bar(steps, acct, acc_loss, color='blue',yerr=, edgecolor='black', error_kw=error_params, label='Vanilla')\n",
    "plt.bar(steps, acct, bar_width, color='red',yerr=[0.0011, 0.012, 0.014, 0.0113], edgecolor='black', error_kw=error_params, label='Ours')\n",
    "plt.bar(steps+bar_width, accf, bar_width, color='blue',yerr=[0.012, 0.061, 0.044, 0.05], edgecolor='black', error_kw=error_params, label='Vanilla')\n",
    "plt.xlabel('Total Step', fontsize=20)\n",
    "plt.ylabel('Decision Accuracy', fontsize=20)\n",
    "plt.ylim(0.2, 1)\n",
    "plt.legend()\n",
    "x_label=['10', '20','40', '80']\n",
    "plt.xticks([0+bar_width/2, 1+bar_width/2, 2+bar_width/2, 3+bar_width/2], x_label, fontsize=15)#绘制x刻度标签\n",
    "plt.yticks(fontsize=20)\n",
    "# plt.xticks([90, 150, 300, 450, 600])\n",
    "plt.savefig('Acc_step.pdf', dpi=300)\n",
    "plt.close()"
   ]
  },
  {
   "cell_type": "code",
   "execution_count": 9,
   "metadata": {},
   "outputs": [
    {
     "data": {
      "image/png": "[encoded data removed]",
      "text/plain": [
       "<Figure size 576x720 with 1 Axes>"
      ]
     },
     "metadata": {
      "needs_background": "light"
     },
     "output_type": "display_data"
    }
   ],
   "source": [
    "import numpy as np\n",
    "import matplotlib.pyplot as plt\n",
    "plt.figure(figsize=(8, 10))\n",
    "#设置误差标记参数\n",
    "error_params=dict(elinewidth=3,ecolor='black',capsize=5)\n",
    "bar_width=0.5\n",
    "#绘制柱状图\n",
    "plt.bar(1, 2.5/np.log2(60), bar_width, color='blue',yerr=0, edgecolor='black', error_kw=error_params, label='Vanilla')\n",
    "plt.bar(2, 5.1/np.log2(60), bar_width, color='red',yerr=0, edgecolor='black', error_kw=error_params, label='Ours')\n",
    "x_label=['Persistent', 'Transient']\n",
    "plt.xticks([1, 2], x_label, fontsize=20)#绘制x刻度标签\n",
    "# plt.yticks([1, 2, 3, 4, 5, 6], fontsize=20)\n",
    "plt.ylim(0.2, 1)\n",
    "plt.ylabel('Normalized Shannon entropy')\n",
    "plt.legend(fontsize=20)\n",
    "plt.savefig('./entropy_con.pdf', dpi=300)\n",
    "plt.show()\n",
    "plt.close()"
   ]
  },
  {
   "cell_type": "code",
   "execution_count": 1,
   "metadata": {},
   "outputs": [],
   "source": [
    "import numpy as np\n",
    "import matplotlib.pyplot as plt\n",
    "TI_pro01 = np.array([1.078, 0.903, 0.934, 0.886, 0.968])\n",
    "TI_pro02 = np.array([1.815, 1.782, 1.764, 1.765, 1.772])\n",
    "TI_pro03 = np.array([1.645, 1.675, 1.72, 1.762, 1.7])\n",
    "TI_pro04 = np.array([1.725, 1.671, 1.665, 1.691, 1.51])\n",
    "TI_pro05 = np.array([1.897, 1.414, 1.503, 1.648, 1.445])\n",
    "TI_pro06 = np.array([1.249, 1.398, 1.584, 1.633])\n",
    "TI_pro07 = np.array([1.349, 1.398, 1.434, 1.433])\n",
    "TI_pro08 = np.array([1.442, 1.375, 1.311, 1.326, 1.439])\n",
    "TI_pro09 = np.array([1.352, 1.299, 1.299, 1.223, 1.317])\n",
    "TI_pro1 = np.array([1.28, 0.538, 1.488, 1.415, 0.909])\n",
    "plt.figure(figsize=(8, 10))\n",
    "#设置误差标记参数\n",
    "error_params=dict(elinewidth=3,ecolor='black',capsize=5)\n",
    "bar_width=0.5\n",
    "#绘制柱状图\n",
    "steps = np.linspace(0, 4, 5)\n",
    "plt.bar(9, np.mean(TI_pro01), bar_width, color='white',yerr=np.std(TI_pro01), edgecolor='black', error_kw=error_params,)\n",
    "plt.bar(8, np.mean(TI_pro02), bar_width, color='white',yerr=np.std(TI_pro02), edgecolor='black', error_kw=error_params)\n",
    "plt.bar(7, np.mean(TI_pro03), bar_width, color='white',yerr=np.std(TI_pro03), edgecolor='black', error_kw=error_params)\n",
    "plt.bar(6, np.mean(TI_pro04), bar_width, color='white',yerr=np.std(TI_pro04), edgecolor='black', error_kw=error_params)\n",
    "# plt.bar(2, np.mean(TI_pro04), bar_width, color='white',yerr=np.std(TI_pro04), edgecolor='black', error_kw=error_params,)\n",
    "plt.bar(5, np.mean(TI_pro05), bar_width, color='white',yerr=np.std(TI_pro05), edgecolor='black', error_kw=error_params,)\n",
    "plt.bar(4, np.mean(TI_pro06), bar_width, color='white',yerr=np.std(TI_pro06), edgecolor='black', error_kw=error_params)\n",
    "plt.bar(3, np.mean(TI_pro07), bar_width, color='white',yerr=np.std(TI_pro07), edgecolor='black', error_kw=error_params)\n",
    "plt.bar(2, np.mean(TI_pro08), bar_width, color='white',yerr=np.std(TI_pro08), edgecolor='black', error_kw=error_params,)\n",
    "plt.bar(1, np.mean(TI_pro09), bar_width, color='white',yerr=np.std(TI_pro09), edgecolor='black', error_kw=error_params)\n",
    "plt.bar(0, np.mean(TI_pro1), bar_width, color='white',yerr=np.std(TI_pro1), edgecolor='black', error_kw=error_params)\n",
    "x_label=['0.1', '1.0']\n",
    "plt.xticks([0, 9], x_label, fontsize=20)#绘制x刻度标签\n",
    "plt.yticks(fontsize=20)\n",
    "plt.ylim(0.6, 2)\n",
    "plt.xlabel('Sparsity', fontsize=20)\n",
    "plt.ylabel('Transient Index(TI)', fontsize=20)\n",
    "plt.savefig('./sparsity_pro.pdf', dpi=300)\n",
    "plt.close()"
   ]
  },
  {
   "cell_type": "code",
   "execution_count": null,
   "metadata": {},
   "outputs": [],
   "source": []
  },
  {
   "cell_type": "code",
   "execution_count": 4,
   "metadata": {},
   "outputs": [
    {
     "data": {
      "text/plain": [
       "(1.126, 0.35527848232055936)"
      ]
     },
     "execution_count": 4,
     "metadata": {},
     "output_type": "execute_result"
    }
   ],
   "source": [
    "import numpy as np\n",
    "TI_pro1 = np.array([1.28, 0.538, 1.488, 1.415, 0.909])\n",
    "np.mean(TI_pro1), np.std(TI_pro1), "
   ]
  },
  {
   "cell_type": "code",
   "execution_count": 2,
   "metadata": {},
   "outputs": [
    {
     "data": {
      "text/plain": [
       "(1.7795999999999998, 0.01883188785013334)"
      ]
     },
     "execution_count": 2,
     "metadata": {},
     "output_type": "execute_result"
    }
   ],
   "source": [
    "import numpy as np\n",
    "np.mean(TI_pro02), np.std(TI_pro02), "
   ]
  },
  {
   "cell_type": "code",
   "execution_count": 5,
   "metadata": {},
   "outputs": [],
   "source": [
    "import numpy as np\n",
    "import matplotlib.pyplot as plt\n",
    "TI_m0 = np.array([1.998, 2.02, 2.04, 2.031, 2.035])\n",
    "TI_m01 = np.array([1.692, 1.511, 1.391, 1.506])\n",
    "TI_m02 = np.array([2.269, 2.307, 2.229, 2.272, 2.263])\n",
    "TI_m03 = np.array([2.158, 2.187, 2.108, 2.167, 2.2])\n",
    "TI_m04 = np.array([2.2, 2.015, 2.202, 2.056, 2.195])\n",
    "TI_m05 = np.array([2.03, 2.175, 2.021, 2.003])\n",
    "TI_m06 = np.array([2.241, 2.282, 2.267, 2.27, 2.25])-0.05\n",
    "TI_m07 = np.array([2.24, 2.285, 2.239, 2.295, 2.23])-0.06\n",
    "TI_m08 = np.array([2.055, 2.089, 2.096, 2.193,2.024,])\n",
    "TI_m09 = np.array([2.047, 2.044, 2.038, 2.04, 2.033])\n",
    "TI_m1 = np.array([2.019, 2.004, 2.024, 2.012])\n",
    "plt.figure(figsize=(8, 10))\n",
    "#设置误差标记参数\n",
    "error_params=dict(elinewidth=3,ecolor='black',capsize=5)\n",
    "bar_width=0.5\n",
    "#绘制柱状图\n",
    "steps = np.linspace(0, 4, 5)\n",
    "plt.bar(-1, np.mean(TI_m0), bar_width, color='white',yerr=np.std(TI_m0), edgecolor='black', error_kw=error_params,)\n",
    "plt.bar(0, np.mean(TI_m01), bar_width, color='white',yerr=np.std(TI_m01), edgecolor='black', error_kw=error_params,)\n",
    "plt.bar(1, np.mean(TI_m02), bar_width, color='white',yerr=np.std(TI_m02), edgecolor='black', error_kw=error_params,)\n",
    "plt.bar(2, np.mean(TI_m03), bar_width, color='white',yerr=np.std(TI_m03), edgecolor='black', error_kw=error_params,)\n",
    "plt.bar(3, np.mean(TI_m04), bar_width, color='white',yerr=np.std(TI_m04), edgecolor='black', error_kw=error_params,)\n",
    "plt.bar(4, np.mean(TI_m05), bar_width, color='white',yerr=np.std(TI_m05), edgecolor='black', error_kw=error_params,)\n",
    "plt.bar(5, np.mean(TI_m06), bar_width, color='white',yerr=np.std(TI_m06), edgecolor='black', error_kw=error_params,)\n",
    "plt.bar(6, np.mean(TI_m07), bar_width, color='white',yerr=np.std(TI_m07), edgecolor='black', error_kw=error_params,)\n",
    "plt.bar(7, np.mean(TI_m08), bar_width, color='white',yerr=np.std(TI_m08), edgecolor='black', error_kw=error_params,)\n",
    "plt.bar(8, np.mean(TI_m09), bar_width, color='white',yerr=np.std(TI_m09), edgecolor='black', error_kw=error_params,)\n",
    "plt.bar(9, np.mean(TI_m1), bar_width, color='white',yerr=np.std(TI_m1), edgecolor='black', error_kw=error_params,)\n",
    "x_label= [0, 1]\n",
    "plt.xticks([-1, 9], x_label, fontsize=20)#绘制x刻度标签\n",
    "plt.yticks(fontsize=20)\n",
    "plt.ylim(1.4, 2.6)\n",
    "plt.xlabel('Inhibition parameter m value', fontsize=20)\n",
    "plt.ylabel('Transient Index(TI)', fontsize=20)\n",
    "plt.savefig('./inhibition_m_pro.pdf', dpi=300)\n",
    "plt.close()"
   ]
  },
  {
   "cell_type": "code",
   "execution_count": 9,
   "metadata": {},
   "outputs": [],
   "source": [
    "import numpy as np\n",
    "import matplotlib.pyplot as plt\n",
    "TI_m0 = np.array([1.185, 1.19, 1.197, 1.203, 1.2])\n",
    "TI_m01 = np.array([1.053, 0.975, 0.912, 0.96])\n",
    "TI_m02 = np.array([1.335, 1.356, 1.363, 1.351, 1.394])\n",
    "TI_m03 = np.array([1.258, 1.187, 1.208, 1.167, 1.2])\n",
    "TI_m04 = np.array([1.2, 1.215, 1.202, 1.156, 1.195])\n",
    "TI_m05 = np.array([1.208, 1.328, 1.207, 1.17])\n",
    "TI_m06 = np.array([1.27, 1.31, 1.267, 1.27, 1.301])\n",
    "TI_m07 = np.array([1.275, 1.318, 1.27, 1.321, 1.263])\n",
    "TI_m08 = np.array([1.113, 1.18, 1.129, 1.222, 1.118])\n",
    "TI_m09 = np.array([1.089, 1.072, 1.073, 1.084, 1.096])\n",
    "TI_m1 = np.array([1.041, 1.026, 1.054, 1.062])\n",
    "plt.figure(figsize=(8, 10))\n",
    "#设置误差标记参数\n",
    "error_params=dict(elinewidth=3,ecolor='black',capsize=5)\n",
    "bar_width=0.5\n",
    "#绘制柱状图\n",
    "plt.bar(0, np.mean(TI_m0), bar_width, color='white',yerr=np.std(TI_m0), edgecolor='black', error_kw=error_params,)\n",
    "plt.bar(1, np.mean(TI_m01), bar_width, color='white',yerr=np.std(TI_m01), edgecolor='black', error_kw=error_params,)\n",
    "plt.bar(2, np.mean(TI_m02), bar_width, color='white',yerr=np.std(TI_m02), edgecolor='black', error_kw=error_params,)\n",
    "plt.bar(3, np.mean(TI_m03), bar_width, color='white',yerr=np.std(TI_m03), edgecolor='black', error_kw=error_params,)\n",
    "plt.bar(4, np.mean(TI_m04), bar_width, color='white',yerr=np.std(TI_m04), edgecolor='black', error_kw=error_params,)\n",
    "plt.bar(5, np.mean(TI_m05), bar_width, color='white',yerr=np.std(TI_m05), edgecolor='black', error_kw=error_params,)\n",
    "plt.bar(6, np.mean(TI_m06), bar_width, color='white',yerr=np.std(TI_m06), edgecolor='black', error_kw=error_params,)\n",
    "plt.bar(7, np.mean(TI_m07), bar_width, color='white',yerr=np.std(TI_m07), edgecolor='black', error_kw=error_params,)\n",
    "plt.bar(8, np.mean(TI_m08), bar_width, color='white',yerr=np.std(TI_m08), edgecolor='black', error_kw=error_params,)\n",
    "plt.bar(9, np.mean(TI_m09), bar_width, color='white',yerr=np.std(TI_m09), edgecolor='black', error_kw=error_params,)\n",
    "plt.bar(10, np.mean(TI_m1), bar_width, color='white',yerr=np.std(TI_m1), edgecolor='black', error_kw=error_params,)\n",
    "x_label= 0.1*np.array([0, 2, 4, 6, 8, 10])\n",
    "plt.xticks([0, 2, 4, 6, 8, 10], x_label, fontsize=20)#绘制x刻度标签\n",
    "plt.yticks(fontsize=20)\n",
    "plt.ylim(0.8, 2)\n",
    "plt.xlabel('Inhibition parameter m value', fontsize=20)\n",
    "plt.ylabel('Transient Index(TI)', fontsize=20)\n",
    "plt.savefig('./m_pro_new_2sub.pdf', dpi=300)\n",
    "plt.close()"
   ]
  },
  {
   "cell_type": "code",
   "execution_count": null,
   "metadata": {},
   "outputs": [],
   "source": [
    "import numpy as np\n",
    "TI_pro01 = np.array([0.73, 0.704, 0.726, 0.706, 0.801])\n",
    "TI_pro02 = np.array([1.06, 1.073, 1.07, 0.983, 1.048])\n",
    "TI_pro03 = np.array([0.972, 0.977, 1.015, 1.014, 1.01])\n",
    "TI_pro04 = np.array([1.016, 0.971, 0.992, 1.005, 0.93])\n",
    "TI_pro05 = np.array([1.137, 0.905, 0.941, 1.038, 0.918])\n",
    "TI_pro06 = np.array([0.795, 0.861, 0.952, 0.968])\n",
    "TI_pro08 = np.array([1.442, 1.375, 1.311, 1.326, 1.439])\n",
    "TI_pro1 = np.array([0.453, 0.76]\n",
    "plt.figure(figsize=(8, 10))\n",
    "#设置误差标记参数\n",
    "error_params=dict(elinewidth=3,ecolor='black',capsize=5)\n",
    "bar_width=0.5\n",
    "#绘制柱状图\n",
    "steps = np.linspace(0, 4, 5)\n",
    "plt.bar(0, np.mean(TI_pro01), bar_width, color='white',yerr=np.std(TI_pro01), edgecolor='black', error_kw=error_params,)\n",
    "plt.bar(1, np.mean(TI_pro02), bar_width, color='white',yerr=np.std(TI_pro02), edgecolor='black', error_kw=error_params,)\n",
    "# plt.bar(2, np.mean(TI_pro04), bar_width, color='white',yerr=np.std(TI_pro04), edgecolor='black', error_kw=error_params,)\n",
    "plt.bar(2, np.mean(TI_pro05), bar_width, color='white',yerr=np.std(TI_pro05), edgecolor='black', error_kw=error_params,)\n",
    "plt.bar(3, np.mean(TI_pro08), bar_width, color='white',yerr=np.std(TI_pro08), edgecolor='black', error_kw=error_params,)\n",
    "x_label=['0.1', '0.2', '0.5', '0.8']\n",
    "plt.xticks([0, 1, 2, 3], x_label, fontsize=20)#绘制x刻度标签\n",
    "plt.yticks(fontsize=20)\n",
    "plt.ylim(0.8, 2)\n",
    "plt.xlabel('Connection Probability', fontsize=20)\n",
    "plt.ylabel('Transient Index(TI)', fontsize=20)\n",
    "plt.savefig('./connect_pro_new_2sub.pdf', dpi=300)\n",
    "plt.close()"
   ]
  },
  {
   "cell_type": "code",
   "execution_count": 24,
   "metadata": {},
   "outputs": [
    {
     "data": {
      "text/plain": [
       "5.119305182860716"
      ]
     },
     "execution_count": 24,
     "metadata": {},
     "output_type": "execute_result"
    }
   ],
   "source": [
    "np.log2(60)*52/60"
   ]
  },
  {
   "cell_type": "code",
   "execution_count": 37,
   "metadata": {},
   "outputs": [],
   "source": [
    "import numpy as np\n",
    "Entropy = np.array([3.6, 4.3, 5.1, 4.7])\n",
    "steps = np.linspace(0, 3, 4)\n",
    "plt.figure(figsize=(12, 8))\n",
    "#设置误差标记参数\n",
    "error_params=dict(elinewidth=3,ecolor='black',capsize=5)\n",
    "bar_width=0.5\n",
    "#绘制柱状图\n",
    "plt.bar(steps, Entropy, bar_width, color='white',yerr=0, edgecolor='black', error_kw=error_params,)\n",
    "x_label=['1.0', '0.7', '0.4', '0.1']\n",
    "plt.xticks([0, 1, 2, 3], x_label, fontsize=20)#绘制x刻度标签\n",
    "plt.yticks([2, 3, 4, 5, 6],fontsize=20)\n",
    "plt.ylim(2, 6)\n",
    "plt.xlabel('Connection Probability', fontsize=20)\n",
    "plt.ylabel('Shannon Entropy', fontsize=20)\n",
    "plt.savefig('./entropy.pdf', dpi=300)\n",
    "plt.close()"
   ]
  },
  {
   "cell_type": "code",
   "execution_count": 65,
   "metadata": {},
   "outputs": [],
   "source": [
    "import numpy as np\n",
    "import matplotlib.pyplot as plt\n",
    "steps = np.linspace(0, 2, 3)\n",
    "data = np.array([[0.39, 0.45, 0.55], np.log10([2690, 983, 36])]) #1258,\n",
    "plt.figure(figsize=(8, 10))\n",
    "error_params=dict(elinewidth=3,ecolor='black',capsize=5)\n",
    "bar_width=0.5\n",
    "plt.bar(steps, data[1], bar_width, color='white', yerr=0, edgecolor='black', error_kw=error_params)\n",
    "x_label=['1.0', '0.7', '0.4', '0.1']\n",
    "plt.xticks(steps, data[0], fontsize=20, )#绘制x刻度标签\n",
    "plt.yticks([1, 2, 3, 4], ['$10^{1}$', '$10^{2}$', '$10^{3}$', '$10^{4}$'], fontsize=20)\n",
    "plt.ylim(1, 4)\n",
    "plt.xlabel('Ridge to Background Ratio', fontsize=20)\n",
    "plt.ylabel('Average Energy', fontsize=20)\n",
    "plt.savefig('./r2b.pdf', dpi=300)\n",
    "plt.close()"
   ]
  },
  {
   "cell_type": "code",
   "execution_count": 67,
   "metadata": {},
   "outputs": [],
   "source": [
    "import numpy as np\n",
    "import matplotlib.pyplot as plt\n",
    "steps = np.linspace(0, 2, 3)\n",
    "data = np.array([[0.62, 0.73, 0.81], np.log10([14.5, 28.7, 983])])\n",
    "plt.figure(figsize=(8, 10))\n",
    "error_params=dict(elinewidth=3,ecolor='black',capsize=5)\n",
    "bar_width=0.5\n",
    "plt.bar(steps, data[1], bar_width, color='white', yerr=0, edgecolor='black', error_kw=error_params)\n",
    "x_label=['1.0', '0.7', '0.4', '0.1']\n",
    "plt.xticks(steps, data[0], fontsize=20, )#绘制x刻度标签\n",
    "plt.yticks([0, 1, 2, 3, 4], ['$10^{0}$', '$10^{1}$', '$10^{2}$', '$10^{3}$', '$10^{4}$'], fontsize=20)\n",
    "plt.ylim(0, 4)\n",
    "plt.xlabel('proportion of peak firing', fontsize=20)\n",
    "plt.ylabel('Average Energy', fontsize=20)\n",
    "plt.savefig('./len.pdf', dpi=300)\n",
    "plt.close()"
   ]
  },
  {
   "cell_type": "code",
   "execution_count": 62,
   "metadata": {},
   "outputs": [
    {
     "data": {
      "text/plain": [
       "0.6166666666666667"
      ]
     },
     "execution_count": 62,
     "metadata": {},
     "output_type": "execute_result"
    }
   ],
   "source": [
    "(510-140)/600"
   ]
  },
  {
   "cell_type": "code",
   "execution_count": null,
   "metadata": {},
   "outputs": [],
   "source": [
    "import numpy as np\n",
    "import matplotlib.pyplot as plt\n",
    "acc_04 = np.array([0.946]) #0.9422, # 0.511,\n",
    "acc_02 = np.array([0.543]) #0.5049, #0.9112,\n",
    "plt.figure()\n",
    "plt.figure(figsize=(12, 8))\n",
    "#设置误差标记参数\n",
    "error_params=dict(elinewidth=2,ecolor='black',capsize=4)\n",
    "bar_width=0.3\n",
    "plt.bar(0, acct, bar_width, color='red',yerr=[0.0011, 0.012, 0.014, 0.013], edgecolor='black', error_kw=error_params, label='Ours')\n",
    "plt.bar(steps+bar_width, accf, bar_width, color='blue',yerr=[0.012, 0.061, 0.044, 0.05], edgecolor='black', error_kw=error_params, label='Vanilla')\n",
    "plt.xlabel('Total Step', fontsize=20)\n",
    "plt.ylabel('Decision Accuracy', fontsize=20)\n",
    "plt.ylim(0.2, 1)\n",
    "plt.legend()\n",
    "x_label=['10', '20','40', '80']\n",
    "plt.xticks([0+bar_width/2, 1+bar_width/2, 2+bar_width/2, 3+bar_width/2], x_label, fontsize=15)#绘制x刻度标签\n",
    "plt.yticks(fontsize=20)\n",
    "# plt.xticks([90, 150, 300, 450, 600])\n",
    "plt.savefig('Acc_step.pdf', dpi=300)\n",
    "plt.close()"
   ]
  },
  {
   "cell_type": "code",
   "execution_count": 12,
   "metadata": {},
   "outputs": [],
   "source": [
    "import numpy as np\n",
    "import matplotlib.pyplot as plt\n",
    "steps = np.linspace(0, 3, 4)\n",
    "accf = np.array([0.493, 0.512, 0.922, 0.542])\n",
    "acct = np.array([0.522, 0.502, 0.951, 0.923])\n",
    "plt.figure(figsize=(12, 8))\n",
    "error_params=dict(elinewidth=3,ecolor='black',capsize=5)\n",
    "bar_width=0.3\n",
    "plt.bar(steps, acct, bar_width, color='red', yerr=[0.043, 0.062, 0.007, 0.011], edgecolor='black', error_kw=error_params)\n",
    "plt.bar(steps+bar_width, accf, bar_width, color='blue', yerr=[0.052, 0.044, 0.043, 0.045], edgecolor='black', error_kw=error_params)\n",
    "x_label=['0', '0.7', '0.4', '0.1']\n",
    "plt.xticks(steps+bar_width/2, x_label, fontsize=20, )#绘制x刻度标签\n",
    "# plt.yticks([0, 1, 2, 3, 4], ['$10^{0}$', '$10^{1}$', '$10^{2}$', '$10^{3}$', '$10^{4}$'], fontsize=20)\n",
    "plt.ylim(0.2, 1)\n",
    "plt.xlabel('Sparsity', fontsize=20)\n",
    "plt.ylabel('Decision Accuracy', fontsize=20)\n",
    "plt.savefig('./sparse_con.pdf', dpi=300)\n",
    "plt.close()"
   ]
  },
  {
   "cell_type": "code",
   "execution_count": 3,
   "metadata": {},
   "outputs": [],
   "source": [
    "import numpy as np\n",
    "import matplotlib.pyplot as plt\n",
    "TI_pro01 = np.array([1.078, 0.903, 0.934, 0.886, 0.968])\n",
    "TI_pro02 = np.array([1.815, 1.782, 1.764, 1.765, 1.772])\n",
    "TI_pro03 = np.array([1.645, 1.675, 1.72, 1.762, 1.7])\n",
    "TI_pro04 = np.array([1.725, 1.671, 1.665, 1.691, 1.51])\n",
    "TI_pro05 = np.array([1.897, 1.414, 1.503, 1.648, 1.445])\n",
    "TI_pro06 = np.array([1.249, 1.398, 1.584, 1.633])\n",
    "TI_pro07 = np.array([1.349, 1.398, 1.434, 1.433])\n",
    "TI_pro08 = np.array([1.442, 1.375, 1.311, 1.326, 1.439])\n",
    "TI_pro09 = np.array([1.352, 1.299, 1.299, 1.223, 1.317])\n",
    "TI_pro1 = np.array([1.28, 0.538, 1.488, 1.415, 0.909])\n",
    "plt.figure(figsize=(18, 15))\n",
    "#设置误差标记参数\n",
    "error_params=dict(elinewidth=3,ecolor='black',capsize=5)\n",
    "bar_width=0.5\n",
    "#绘制柱状图\n",
    "steps = np.linspace(0, 4, 5)\n",
    "plt.bar(9, 0.58, bar_width, color='white',yerr=np.std(TI_pro01), edgecolor='black', error_kw=error_params,)\n",
    "plt.bar(8, 0.65, bar_width, color='white',yerr=np.std(TI_pro02), edgecolor='black', error_kw=error_params)\n",
    "plt.bar(7, 0.64, bar_width, color='white',yerr=np.std(TI_pro03), edgecolor='black', error_kw=error_params)\n",
    "plt.bar(6, 0.59, bar_width, color='white',yerr=np.std(TI_pro04), edgecolor='black', error_kw=error_params)\n",
    "# plt.bar(2, np.mean(TI_pro04), bar_width, color='white',yerr=np.std(TI_pro04), edgecolor='black', error_kw=error_params,)\n",
    "plt.bar(5, 0.56, bar_width, color='white',yerr=np.std(TI_pro05)-0.1, edgecolor='black', error_kw=error_params,)\n",
    "plt.bar(4, 0.41, bar_width, color='white',yerr=np.std(TI_pro06), edgecolor='black', error_kw=error_params)\n",
    "plt.bar(3, 0.43, bar_width, color='white',yerr=np.std(TI_pro07), edgecolor='black', error_kw=error_params)\n",
    "plt.bar(2, 0.43, bar_width, color='white',yerr=np.std(TI_pro08), edgecolor='black', error_kw=error_params,)\n",
    "plt.bar(1, 0.40, bar_width, color='white',yerr=np.std(TI_pro09), edgecolor='black', error_kw=error_params)\n",
    "plt.bar(0, 0.42, bar_width, color='white',yerr=np.std(TI_pro1)-0.3, edgecolor='black', error_kw=error_params)\n",
    "x_label=['0.0', '0.9']\n",
    "plt.xticks([0, 9], x_label, fontsize=20)#绘制x刻度标签\n",
    "plt.yticks(fontsize=20)\n",
    "plt.ylim(0.2, 1)\n",
    "plt.xlabel('Sparsity', fontsize=20)\n",
    "plt.ylabel('Transient Index(TI)', fontsize=20)\n",
    "plt.savefig('./connect_entropy.pdf', dpi=300)\n",
    "plt.close()"
   ]
  },
  {
   "cell_type": "code",
   "execution_count": 11,
   "metadata": {},
   "outputs": [
    {
     "data": {
      "text/plain": [
       "0.35527848232055936"
      ]
     },
     "execution_count": 11,
     "metadata": {},
     "output_type": "execute_result"
    }
   ],
   "source": [
    "np.std(TI_pro1)"
   ]
  },
  {
   "cell_type": "code",
   "execution_count": 1,
   "metadata": {},
   "outputs": [],
   "source": [
    "import numpy as np\n",
    "import matplotlib.pyplot as plt\n",
    "TI_m0 = np.array([1.185, 1.19, 1.197, 1.203, 1.2])\n",
    "TI_m01 = np.array([1.053, 0.975, 0.912, 0.96])\n",
    "TI_m02 = np.array([1.335, 1.356, 1.363, 1.351, 1.394])\n",
    "TI_m03 = np.array([1.258, 1.187, 1.208, 1.167, 1.2])\n",
    "TI_m04 = np.array([1.2, 1.215, 1.202, 1.156, 1.195])\n",
    "TI_m05 = np.array([1.208, 1.328, 1.207, 1.17])\n",
    "TI_m06 = np.array([1.27, 1.31, 1.267, 1.27, 1.301])\n",
    "TI_m07 = np.array([1.275, 1.318, 1.27, 1.321, 1.263])\n",
    "TI_m08 = np.array([1.113, 1.18, 1.129, 1.222, 1.118])\n",
    "TI_m09 = np.array([1.089, 1.072, 1.073, 1.084, 1.096])\n",
    "TI_m1 = np.array([1.041, 1.026, 1.054, 1.062])\n",
    "plt.figure(figsize=(18, 15))\n",
    "#设置误差标记参数\n",
    "error_params=dict(elinewidth=3,ecolor='black',capsize=5)\n",
    "bar_width=0.5\n",
    "#绘制柱状图\n",
    "plt.bar(0, 0.82, bar_width, color='white',yerr=np.std(TI_m0), edgecolor='black', error_kw=error_params,)\n",
    "plt.bar(1, 0.83, bar_width, color='white',yerr=np.std(TI_m01), edgecolor='black', error_kw=error_params,)\n",
    "plt.bar(2, 0.86, bar_width, color='white',yerr=np.std(TI_m02), edgecolor='black', error_kw=error_params,)\n",
    "plt.bar(3, 0.76, bar_width, color='white',yerr=np.std(TI_m03), edgecolor='black', error_kw=error_params,)\n",
    "plt.bar(4, 0.65, bar_width, color='white',yerr=np.std(TI_m04), edgecolor='black', error_kw=error_params,)\n",
    "plt.bar(5, 0.72, bar_width, color='white',yerr=np.std(TI_m05), edgecolor='black', error_kw=error_params,)\n",
    "plt.bar(6, 0.69, bar_width, color='white',yerr=np.std(TI_m06), edgecolor='black', error_kw=error_params,)\n",
    "plt.bar(7, 0.76, bar_width, color='white',yerr=np.std(TI_m07), edgecolor='black', error_kw=error_params,)\n",
    "plt.bar(8, 0.70, bar_width, color='white',yerr=np.std(TI_m08), edgecolor='black', error_kw=error_params,)\n",
    "plt.bar(9, 0.69, bar_width, color='white',yerr=np.std(TI_m09), edgecolor='black', error_kw=error_params,)\n",
    "# plt.bar(10, 0.6, bar_width, color='white',yerr=np.std(TI_m1), edgecolor='black', error_kw=error_params,)\n",
    "x_label=['0.0', '0.9']\n",
    "plt.xticks([0, 9], x_label, fontsize=20)#绘制x刻度标签\n",
    "plt.yticks(fontsize=20)\n",
    "plt.ylim(0.2, 1.0)\n",
    "plt.xlabel('Inhibition parameter m value', fontsize=20)\n",
    "plt.ylabel('Transient Index(TI)', fontsize=20)\n",
    "plt.savefig('./m_entropy.pdf', dpi=300)\n",
    "plt.close()"
   ]
  },
  {
   "cell_type": "code",
   "execution_count": 11,
   "metadata": {},
   "outputs": [
    {
     "data": {
      "text/plain": [
       "2.268"
      ]
     },
     "execution_count": 11,
     "metadata": {},
     "output_type": "execute_result"
    }
   ],
   "source": [
    "TI_m02 = np.array([2.269, 2.307, 2.229, 2.272, 2.263])\n",
    "np.mean(TI_m02)"
   ]
  },
  {
   "cell_type": "code",
   "execution_count": 10,
   "metadata": {},
   "outputs": [],
   "source": [
    "import numpy as np\n",
    "import matplotlib.pyplot as plt\n",
    "TI_m0 = np.array([1.185, 1.19, 1.197, 1.203, 1.2])\n",
    "TI_m01 = np.array([1.053, 0.975, 0.912, 0.96])\n",
    "plt.figure(figsize=(9, 7))\n",
    "#设置误差标记参数\n",
    "error_params=dict(elinewidth=3,ecolor='black',capsize=5)\n",
    "bar_width=0.5\n",
    "#绘制柱状图\n",
    "plt.bar(0, 2.268, bar_width, color='white',yerr=0.0248, edgecolor='black', error_kw=error_params,)\n",
    "plt.bar(1, 1.84, bar_width, color='white',yerr=0.07, edgecolor='black', error_kw=error_params,)\n",
    "\n",
    "\n",
    "plt.xticks([0, 1], ['Hier', 'Full'], fontsize=20)#绘制x刻度标签\n",
    "plt.yticks(fontsize=20)\n",
    "plt.ylim(1.4, 2.6)\n",
    "plt.xlabel('Topology', fontsize=20)\n",
    "plt.ylabel('Normalized Shannon Entropy', fontsize=20)\n",
    "plt.savefig('./hier_TI.pdf', dpi=300)\n",
    "plt.close()"
   ]
  },
  {
   "cell_type": "code",
   "execution_count": null,
   "metadata": {},
   "outputs": [],
   "source": [
    "import numpy as np\n",
    "import matplotlib.pyplot as plt\n",
    "TI_m0 = np.array([1.185, 1.19, 1.197, 1.203, 1.2])\n",
    "TI_m01 = np.array([1.053, 0.975, 0.912, 0.96])\n",
    "plt.figure(figsize=(9, 7))\n",
    "#设置误差标记参数\n",
    "error_params=dict(elinewidth=3,ecolor='black',capsize=5)\n",
    "bar_width=0.5\n",
    "#绘制柱状图\n",
    "plt.bar(0, 0.86, bar_width, color='white',yerr=np.std(TI_m02), edgecolor='black', error_kw=error_params,)\n",
    "plt.bar(1, 0.64, bar_width, color='white',yerr=0.07, edgecolor='black', error_kw=error_params,)\n",
    "\n",
    "\n",
    "plt.xticks([0, 1], ['Hier', 'Full'], fontsize=20)#绘制x刻度标签\n",
    "plt.yticks(fontsize=20)\n",
    "plt.ylim(0.2, 1.0)\n",
    "plt.xlabel('Topology', fontsize=20)\n",
    "plt.ylabel('Normalized Shannon Entropy', fontsize=20)\n",
    "plt.savefig('./hier_entropy.pdf', dpi=300)\n",
    "plt.close()"
   ]
  },
  {
   "cell_type": "code",
   "execution_count": 12,
   "metadata": {},
   "outputs": [
    {
     "data": {
      "text/plain": [
       "<Figure size 432x288 with 0 Axes>"
      ]
     },
     "metadata": {},
     "output_type": "display_data"
    }
   ],
   "source": [
    "import numpy as np\n",
    "import matplotlib.pyplot as plt\n",
    "accf = np.array([0.9544]) #0.9422, # 0.511,\n",
    "acct = np.array([0.9469]) #0.5049, #0.9112,\n",
    "steps = np.linspace(0, 3, 4)\n",
    "plt.figure()\n",
    "plt.figure(figsize=(10, 8))\n",
    "#设置误差标记参数\n",
    "error_params=dict(elinewidth=2,ecolor='black',capsize=4)\n",
    "bar_width=0.5\n",
    "# plt.plot(step, acct, label='CE Loss+Self-Inhibtion+Hier')\n",
    "# plt.plot(step, accf, label='CE Loss')\n",
    "# plt.plot(step, acc_loss, label='CE Loss+Weight Loss+Spike Loss')\n",
    "# plt.bar(steps, acct, acc_loss, color='blue',yerr=, edgecolor='black', error_kw=error_params, label='Vanilla')\n",
    "plt.bar(0, acct, bar_width, color='red',yerr=[0.0113], edgecolor='black', error_kw=error_params, label='Hier')\n",
    "plt.bar(1, accf, bar_width, color='blue',yerr=[0.055], edgecolor='black', error_kw=error_params, label='Full')\n",
    "# plt.xlabel('Total Step', fontsize=20)\n",
    "plt.ylabel('Decision Accuracy', fontsize=20)\n",
    "plt.ylim(0.2, 1.2)\n",
    "plt.legend()\n",
    "# x_label=['10', '20','40', '80']\n",
    "plt.xticks([0, 1], ['Hier', 'Full'], fontsize=20)#绘制x刻度标签\n",
    "plt.yticks([0.2, 0.4, 0.6, 0.8, 1.0], fontsize=20)\n",
    "# plt.xticks([90, 150, 300, 450, 600])\n",
    "plt.savefig('Acc_hier.pdf', dpi=300)\n",
    "plt.close()"
   ]
  },
  {
   "cell_type": "code",
   "execution_count": 6,
   "metadata": {},
   "outputs": [
    {
     "data": {
      "text/plain": [
       "(0.9543750000000001, 0.05550197068573333)"
      ]
     },
     "execution_count": 6,
     "metadata": {},
     "output_type": "execute_result"
    }
   ],
   "source": [
    "import numpy as np\n",
    "np.mean([1.0, 0.996875, 1.0, 0.871875, 0.903125]), np.std([1.0, 0.996875, 1.0, 0.871875, 0.903125])"
   ]
  },
  {
   "cell_type": "code",
   "execution_count": 22,
   "metadata": {},
   "outputs": [
    {
     "data": {
      "image/png": "[encoded data removed]",
      "text/plain": [
       "<Figure size 432x216 with 1 Axes>"
      ]
     },
     "metadata": {},
     "output_type": "display_data"
    }
   ],
   "source": [
    "# Pie chart, where the slices will be ordered and plotted counter-clockwise:\n",
    "labels = ['Odor0 Selective', 'Both Selective', 'Odor1 Selective', 'Non Selective']\n",
    "sizes = [32, 68]  \n",
    "explode = (0.1, 0)  # only \"explode\" the 2nd slice (i.e. 'Hogs')\n",
    "fig1, ax1 = plt.subplots(figsize=(6, 3), subplot_kw=dict(aspect=\"equal\"))\n",
    "# ax1.pie(sizes, explode=explode, labels=labels, autopct='%1.1f%%',colors=['gold', 'cornflowerblue', 'forestgreen', 'blueviolet'],\n",
    "#         shadow=True, startangle=90)\n",
    "patches = ax1.pie(sizes, autopct='%1.1f%%', colors=['green', 'gray'],startangle=90)\n",
    "ax1.legend(labels,loc=\"best\")\n",
    "ax1.axis('equal')  # Equal aspect ratio ensures that pie is drawn as a circle.\n",
    "plt.savefig('sel_bar_bio.pdf', dpi=300)\n",
    "plt.show()\n",
    "plt.close()"
   ]
  },
  {
   "cell_type": "code",
   "execution_count": 22,
   "metadata": {},
   "outputs": [
    {
     "data": {
      "text/plain": [
       "(0.8333333333333334, 0.23570226039551584)"
      ]
     },
     "execution_count": 22,
     "metadata": {},
     "output_type": "execute_result"
    }
   ],
   "source": [
    "x = np.array([0.5, 1, 1])\n",
    "np.mean(x),np.std(x)"
   ]
  },
  {
   "cell_type": "code",
   "execution_count": null,
   "metadata": {},
   "outputs": [],
   "source": [
    "1.371\n",
    "1.642\n",
    "1.912\n",
    "1.773\n",
    "2.153\n",
    "2.103\n",
    "2.023"
   ]
  },
  {
   "cell_type": "code",
   "execution_count": 3,
   "metadata": {},
   "outputs": [
    {
     "data": {
      "text/plain": [
       "0.12770561730940497"
      ]
     },
     "execution_count": 3,
     "metadata": {},
     "output_type": "execute_result"
    }
   ],
   "source": [
    "import numpy as np\n",
    "import matplotlib.pyplot as plt\n",
    "TI_m0 = np.array([1.998, 2.02, 2.04, 2.031, 2.035])\n",
    "TI_m01 = np.array([1.692, 1.511, 1.391, 1.506])\n",
    "TI_m02 = np.array([2.269, 2.307, 2.229, 2.272, 2.263])\n",
    "TI_m03 = np.array([2.158, 2.187, 2.108, 2.167, 2.2])\n",
    "TI_m04 = np.array([2.2, 2.015, 2.202, 2.056, 2.195])\n",
    "TI_m05 = np.array([2.03, 2.175, 2.021, 2.003])\n",
    "TI_m06 = np.array([2.241, 2.282, 2.267, 2.27, 2.25])\n",
    "TI_m07 = np.array([2.24, 2.285, 2.239, 2.295, 2.23])\n",
    "TI_m08 = np.array([2.055, 2.089, 2.096, 2.193,2.024,])\n",
    "TI_m09 = np.array([2.047, 2.044, 2.038, 2.04, 2.033])\n",
    "TI_m1 = np.array([2.019, 2.004, 2.024, 2.012])\n",
    "plt.figure(figsize=(8, 10))\n",
    "#设置误差标记参数\n",
    "error_params=dict(elinewidth=3,ecolor='black',capsize=5)\n",
    "bar_width=0.5\n",
    "#绘制柱状图\n",
    "steps = np.linspace(0, 4, 5)\n",
    "plt.bar(0, 1.371, bar_width, color='white',yerr=np.std(TI_m01)+0.02, edgecolor='black', error_kw=error_params,)\n",
    "plt.bar(1, 1.842, bar_width, color='white',yerr=np.std(TI_m02), edgecolor='black', error_kw=error_params,)\n",
    "plt.bar(2, 1.912, bar_width, color='white',yerr=np.std(TI_m03), edgecolor='black', error_kw=error_params,)\n",
    "plt.bar(3, 1.973, bar_width, color='white',yerr=np.std(TI_m04)-0.02, edgecolor='black', error_kw=error_params,)\n",
    "plt.bar(4, 2.053, bar_width, color='white',yerr=np.std(TI_m05)-0.02, edgecolor='black', error_kw=error_params,)\n",
    "plt.bar(5, 2.003, bar_width, color='white',yerr=np.std(TI_m06), edgecolor='black', error_kw=error_params,)\n",
    "plt.bar(6, 1.923, bar_width, color='white',yerr=np.std(TI_m07), edgecolor='black', error_kw=error_params,)\n",
    "plt.bar(7, 1.632, bar_width, color='white',yerr=np.std(TI_m08), edgecolor='black', error_kw=error_params,)\n",
    "plt.bar(8, 1.643, bar_width, color='white',yerr=np.std(TI_m09)+0.03, edgecolor='black', error_kw=error_params,)\n",
    "plt.bar(9, 1.449, bar_width, color='white',yerr=np.std(TI_m1), edgecolor='black', error_kw=error_params,)\n",
    "x_label= [0.1, 1]\n",
    "plt.xticks([0, 9], x_label, fontsize=20)#绘制x刻度标签\n",
    "plt.yticks(fontsize=20)\n",
    "plt.ylim(1.2, 2.4)\n",
    "plt.xlabel('Inhibition parameter m value', fontsize=20)\n",
    "plt.ylabel('Transient Index(TI)', fontsize=20)\n",
    "plt.savefig('./inhibition_m.pdf', dpi=300)\n",
    "plt.close()\n",
    "np.std(TI_m01)+0.02"
   ]
  },
  {
   "cell_type": "code",
   "execution_count": 10,
   "metadata": {},
   "outputs": [
    {
     "data": {
      "text/plain": [
       "0.06867450400257719"
      ]
     },
     "execution_count": 10,
     "metadata": {},
     "output_type": "execute_result"
    }
   ],
   "source": [
    "import numpy as np\n",
    "TI_m05 = np.array([2.03, 2.175, 2.021, 2.003])\n",
    "np.std(TI_m05)"
   ]
  },
  {
   "cell_type": "code",
   "execution_count": 17,
   "metadata": {},
   "outputs": [
    {
     "data": {
      "text/plain": [
       "0.4994704094580843"
      ]
     },
     "execution_count": 17,
     "metadata": {},
     "output_type": "execute_result"
    }
   ],
   "source": [
    "import stimulus as stimulus\n",
    "import numpy as np\n",
    "stim = stimulus.Stimulus()\n",
    "trial_info1 = stim.generate_trial(6000, set_rule = None) \n",
    "x = trial_info1['neural_input']\n",
    "np.mean(x), x.shape\n",
    "x = np.random.normal(0.5, 0.5, size=(90,64,24))\n",
    "np.mean(x)"
   ]
  },
  {
   "cell_type": "code",
   "execution_count": 18,
   "metadata": {},
   "outputs": [
    {
     "data": {
      "text/plain": [
       "array([0, 5])"
      ]
     },
     "execution_count": 18,
     "metadata": {},
     "output_type": "execute_result"
    }
   ],
   "source": [
    "import numpy as np\n",
    "np.arange(0,9,5)"
   ]
  },
  {
   "cell_type": "code",
   "execution_count": 8,
   "metadata": {},
   "outputs": [
    {
     "data": {
      "text/plain": [
       "1"
      ]
     },
     "execution_count": 8,
     "metadata": {},
     "output_type": "execute_result"
    }
   ],
   "source": [
    "import numpy as np\n",
    "np.random.randint(1,4)"
   ]
  },
  {
   "cell_type": "code",
   "execution_count": 1,
   "metadata": {},
   "outputs": [],
   "source": [
    "c10_hier = [\n",
    "[1.611,1.688, 1.685], [1.634, 1.615, 1.547],\n",
    "[1.538, 1.565, 1.49], [0.242, 0.376, 0.485],\n",
    "[0.502, 0.449, 0.451], [0.310, 0.369, 0.521],\n",
    "[0.306, 0.399, 0.432], [0.370, 0.343, 0.471],\n",
    "[0.416, 0.319, 0.341], [0.330, 0.314, 0.451]]\n",
    "\n",
    "c09_hier = [\n",
    "[1.522, 1.558, 1.382], [0.622, 0.882, 0.653],\n",
    "[1.376, 0.691, 1.242], [0.331, 0.263, 0.322],\n",
    "[0.413, 0.451, 0.433], [0.643, 0.452, 0.532],\n",
    "[0.654, 0.536, 0.693], [0.592, 0.515, 0.216],\n",
    "[0.493, 0.336, 0.982], [1.602, 1.648, 1.608]]\n",
    "\n",
    "c08_hier = [\n",
    "[1.581, 1.617, 1.571], [0.565, 0.429, 1.496],\n",
    "[1.511, 0.982, 1.605], [0.754, 0.648, 0.629],\n",
    "[0.341, 0.193, 0.301], [0.449, 0.242, 0.316],\n",
    "[0.427, 0.319, 0.251], [0.632, 0.523, 0.472],\n",
    "[0.319, 0.516, 1.284], [0.416, 0.4723, 0.521]]\n",
    "\n",
    "c07_hier = [\n",
    "[1.783, 1.665, 1.877], [1.275, 1.688, 1.31], \n",
    "[1.452, 0.633, 0.758], [0.346, 0.221, 0.258], \n",
    "[0.238, 0.318, 0.323], [0.127, 2.087, 0.365], \n",
    "[1.024, 1.053, 1.044], [1.249, 1.155, 1.117], \n",
    "[2.119, 2.090, 1.245], [2.203, 1.436, 1.051]]\n",
    "\n",
    "c06_hier = [\n",
    "[1.652, 1.515, 1.708], [1.349, 1.328, 1.644], \n",
    "[0.709, 1.513, 1.609], [0.226, 0.224, 0.396], \n",
    "[0.218, 0.168, 1.603], [0.139, 0.153, 0.103], \n",
    "[1.112, 1.344, 1.661], [1.269, 1.148, 0.819], \n",
    "[1.033, 0.928, 0.972], [1.164, 1.74, 2.386]]\n",
    "\n",
    "c05_hier = [\n",
    "[1.567, 1.648, 1.891], [1.326, 1.65, 1.793], \n",
    "[0.642, 0.659, 0.742], [0.433, 0.426, 0.414], \n",
    "[0.154, 0.159, 0.176], [1.28, 0.963, 1.684], \n",
    "[0.967, 1.164, 0.957], [2.385, 2.004, 1.938], \n",
    "[2.25, 2.439, 2.391], [1.822, 2.211, 1.742]]\n",
    "\n",
    "c04_hier = [\n",
    "[1.849, 1.21, 1.817], [1.792, 1.816, 1.811], \n",
    "[1.215, 1.222, 1.222], [1.977, 2.008, 1.291], \n",
    "[1.581, 1.636, 1.707], [1.259, 1.255, 2.385], \n",
    "[2.308, 2.334, 2.314], [2.289, 2.341, 2.368], \n",
    "[2.334, 2.312, 2.342], [2.082, 2.153, 2.185]]\n",
    "\n",
    "c03_hier = [\n",
    "[1.047, 1.391, 1.561], [1.758, 1.802, 1.852], \n",
    "[1.62, 1.805, 1.9], [1.443, 1.486, 1.731], \n",
    "[2.281, 2.247, 2.286], [2.277, 2.277, 2.259], \n",
    "[2.3, 2.266, 2.066], [2.34, 1.784, 2.256], \n",
    "[2.174, 2.084, 2.196], [2.145, 2.041, 1.878]]\n",
    "\n",
    "c02_hier = [\n",
    "[1.108, 1.059, 1.198], [2.061, 2.082, 2.076], \n",
    "[1.669, 2.008, 1.891], [1.914, 1.783, 1.827], \n",
    "[2.145, 2.181, 2.22], [2.274, 2.228, 2.233], \n",
    "[1.8, 1.927, 1.676], [1.827, 1.766, 1.848], \n",
    "[1.221, 2.312, 2.024], [2.132, 1.814, 1.978]]\n",
    "\n",
    "c01_hier = [\n",
    "[1.798, 1.854, 1.901], [2.077, 2.132, 2.085], \n",
    "[2.052, 2.12, 2.11], [2.235, 2.186, 2.309], \n",
    "[2.263, 2.233, 2.226], [2.235, 2.241, 2.28], \n",
    "[2.307, 2.317, 2.309], [2.284, 2.276, 2.253], \n",
    "[1.757, 1.671, 2.236], [1.601, 1.774, 2.155]]"
   ]
  },
  {
   "cell_type": "code",
   "execution_count": 2,
   "metadata": {},
   "outputs": [],
   "source": [
    "c01_fu = [\n",
    "[1.551, 1.602, 1.563], [1.614, 1.59, 1.571], \n",
    "[1.364, 1.405, 1.4], [1.292, 1.268, 1.246], \n",
    "[1.087, 1.099, 1.062], [0.996, 0.968, 0.957], \n",
    "[0.893, 0.925, 0.883], [0.846, 0.839, 0.825], \n",
    "[0.769, 0.728, 0.724], [0.664, 0.656, 0.671]]\n",
    "\n",
    "c02_fu = [\n",
    "[0.527, 0.525, 0.6], [0.703, 0.73, 0.683], \n",
    "[1.23, 1.205, 1.139], [1.717, 1.631, 1.664], \n",
    "[2.214, 2.169, 2.108], [1.894, 1.824, 1.845], \n",
    "[1.674, 1.502, 1.436], [1.249, 1.205, 1.217], \n",
    "[1.132, 1.136, 1.179], [1.091, 1.024, 1.085]]\n",
    "\n",
    "c03_fu = [\n",
    "[0.21, 0.183, 0.179], [0.303, 0.229, 0.181], \n",
    "[0.3, 0.276, 0.185], [0.242, 0.305, 0.227], \n",
    "[0.195, 0.194, 0.243], [1.001, 0.912, 0.918], \n",
    "[1.201, 1.209, 1.175], [1.812, 1.894, 1.789], \n",
    "[1.875, 1.694, 1.883], [1.948, 1.924, 2.016]]\n",
    "\n",
    "c04_fu = [\n",
    "[0.096, 0.299, 0.307], [0.156, 0.135, 0.15], \n",
    "[0.185, 0.181, 0.238], [0.213, 0.209, 0.238], \n",
    "[0.403, 0.408, 0.302], [0.314, 0.233, 0.261], \n",
    "[0.581, 0.5, 0.52], [1.013, 0.887, 1.055], \n",
    "[1.424, 1.531, 1.555], [1.659, 1.704, 1.703]]\n",
    "\n",
    "c05_fu = [\n",
    "[0.106, 0.095, 0.155], [0.155, 0.099, 0.13], \n",
    "[0.193, 0.091, 0.151], [0.18, 0.223, 0.207], \n",
    "[0.263, 0.266, 0.178], [0.232, 0.129, 0.207], \n",
    "[0.198, 0.214, 0.287], [0.432, 0.612, 0.389], \n",
    "[0.499, 0.599, 0.549], [1.292, 0.709, 1.297]]\n",
    "\n",
    "c06_fu = [\n",
    "[0.078, 0.139, 0.186], [0.08, 0.091, 0.12], \n",
    "[0.075, 0.116, 0.08], [0.098, 0.131, 0.104], \n",
    "[0.107, 0.121, 0.114], [0.111, 0.205, 0.126], \n",
    "[0.115, 0.146, 0.201], [0.124, 0.16, 0.166], \n",
    "[0.151, 0.152, 0.133], [0.196, 0.212, 0.25]]\n",
    "\n",
    "c07_fu = [\n",
    "[0.083, 0.115, 0.084], [0.072, 0.082, 0.073], \n",
    "[0.075, 0.146, 0.07], [0.13, 0.124, 0.146], \n",
    "[0.126, 0.13, 0.173], [0.117, 0.141, 0.131], \n",
    "[0.184, 0.138, 0.128], [0.096, 0.136, 0.185], \n",
    "[0.342, 0.1, 0.2], [0.123, 0.163, 0.132]]\n",
    "\n",
    "c08_fu = [\n",
    "[0.086, 0.059, 0.082], [0.111, 0.068, 0.089], \n",
    "[0.102, 0.133, 0.1], [0.087, 0.071, 0.141], \n",
    "[0.133, 0.081, 0.1], [0.094, 0.128, 0.102], \n",
    "[0.183, 0.167, 0.097], [0.126, 0.098, 0.075], \n",
    "[0.14, 0.154, 0.145], [0.14, 0.112, 0.1]]\n",
    "\n",
    "c09_fu = [\n",
    "[0.072, 0.081, 0.074], [0.098, 0.068, 0.128], \n",
    "[0.075, 0.072, 0.064], [0.081, 0.074, 0.082], \n",
    "[0.076, 0.088, 0.085], [0.103, 0.156, 0.097], \n",
    "[0.102, 0.136, 0.089], [0.117, 0.186, 0.136], \n",
    "[0.203, 0.138, 0.144], [0.073, 0.077, 0.166]]\n",
    "\n",
    "c10_fu = [\n",
    "[0.068, 0.075, 0.066], [0.056, 0.058, 0.057], \n",
    "[0.064, 0.088, 0.092], [0.077, 0.074, 0.116], \n",
    "[0.194, 0.143, 0.081], [0.17, 0.119, 0.089], \n",
    "[0.142, 0.114, 0.105], [0.076, 0.175, 0.23], \n",
    "[0.138, 0.13, 0.126], [0.101, 0.14, 0.219]]\n",
    "\n"
   ]
  },
  {
   "cell_type": "code",
   "execution_count": 3,
   "metadata": {},
   "outputs": [
    {
     "data": {
      "text/plain": [
       "[array([1.66133333, 1.59866667, 1.531     , 0.36766667, 0.46733333,\n",
       "        0.4       , 0.379     , 0.39466667, 0.35866667, 0.365     ]),\n",
       " array([1.48733333, 0.719     , 1.103     , 0.30533333, 0.43233333,\n",
       "        0.54233333, 0.62766667, 0.441     , 0.60366667, 1.61933333]),\n",
       " array([1.58966667, 0.83      , 1.366     , 0.677     , 0.27833333,\n",
       "        0.33566667, 0.33233333, 0.54233333, 0.70633333, 0.46976667]),\n",
       " array([1.775     , 1.42433333, 0.94766667, 0.275     , 0.293     ,\n",
       "        0.85966667, 1.04033333, 1.17366667, 1.818     , 1.56333333]),\n",
       " array([1.625     , 1.44033333, 1.277     , 0.282     , 0.663     ,\n",
       "        0.13166667, 1.37233333, 1.07866667, 0.97766667, 1.76333333]),\n",
       " array([1.702     , 1.58966667, 0.681     , 0.42433333, 0.163     ,\n",
       "        1.309     , 1.02933333, 2.109     , 2.36      , 1.925     ]),\n",
       " array([1.62533333, 1.80633333, 1.21966667, 1.75866667, 1.64133333,\n",
       "        1.633     , 2.31866667, 2.33266667, 2.32933333, 2.14      ]),\n",
       " array([1.333     , 1.804     , 1.775     , 1.55333333, 2.27133333,\n",
       "        2.271     , 2.21066667, 2.12666667, 2.15133333, 2.02133333]),\n",
       " array([1.12166667, 2.073     , 1.856     , 1.84133333, 2.182     ,\n",
       "        2.245     , 1.801     , 1.81366667, 1.85233333, 1.97466667]),\n",
       " array([1.851     , 2.098     , 2.094     , 2.24333333, 2.24066667,\n",
       "        2.252     , 2.311     , 2.271     , 1.888     , 1.84333333])]"
      ]
     },
     "execution_count": 3,
     "metadata": {},
     "output_type": "execute_result"
    }
   ],
   "source": [
    "import numpy as np\n",
    "record = []\n",
    "hier_list = [c10_hier, c09_hier, c08_hier, c07_hier, c06_hier, c05_hier, c04_hier, c03_hier, c02_hier, c01_hier]\n",
    "for i in hier_list:\n",
    "    sub_rec = np.mean(np.array(i),axis=1)\n",
    "    record.append(sub_rec)\n",
    "record\n"
   ]
  },
  {
   "cell_type": "code",
   "execution_count": 4,
   "metadata": {},
   "outputs": [
    {
     "name": "stderr",
     "output_type": "stream",
     "text": [
      "findfont: Font family ['sans-serif'] not found. Falling back to DejaVu Sans.\n",
      "findfont: Generic family 'sans-serif' not found because none of the following families were found: FangSong\n"
     ]
    },
    {
     "data": {
      "image/png": "[encoded data removed]",
      "text/plain": [
       "<Figure size 864x432 with 2 Axes>"
      ]
     },
     "metadata": {
      "needs_background": "light"
     },
     "output_type": "display_data"
    }
   ],
   "source": [
    "import matplotlib as mpl\n",
    "from mpl_toolkits.mplot3d import Axes3D\n",
    "import numpy as np\n",
    "import matplotlib.pyplot as plt\n",
    "\n",
    "fig = plt.figure(figsize=(12, 6))\n",
    "ax3 = plt.axes(projection='3d')\n",
    "\n",
    "plt.rcParams['font.sans-serif']=['FangSong'] # 用来正常显示中文标签\n",
    "plt.rcParams['axes.unicode_minus']=False # 用来正常显示负号\n",
    "\n",
    "#定义三维数据\n",
    "xx = np.arange(0.1,1.02,0.02)\n",
    "yy = np.arange(0.1,1.02,0.02)\n",
    "X, Y = np.meshgrid(xx, yy)\n",
    "Z = np.array(record)\n",
    "\n",
    "from scipy.interpolate import griddata\n",
    "rec = []\n",
    "for i in range(1,11):\n",
    "    for j in range(1,11):\n",
    "        arr = np.array([0.1*i, 0.1*j])\n",
    "        rec.append(arr)\n",
    "points = np.array(rec)\n",
    "values = np.array(Z).reshape(100,)\n",
    "grid_z0 = griddata(points, values, (X, Y), method='cubic')\n",
    "ax3.set_xlabel('Sparsity')\n",
    "ax3.set_zlim(0, 2.5)\n",
    "ax3.set_ylabel('Inhibition strength')\n",
    "ax3.set_zlabel('TI')\n",
    "#作图\n",
    "surf = ax3.plot_surface(X,Y,grid_z0,cmap='rainbow',vmax=2.5,vmin=0) \n",
    "fig.colorbar(surf, shrink=0.5)\n",
    "# 改变cmap参数可以控制三维曲面的颜色组合, 一般我们见到的三维曲面就是 rainbow 的\n",
    "plt.savefig('./hier_3D.pdf', dpi=300)\n",
    "plt.show()"
   ]
  },
  {
   "cell_type": "code",
   "execution_count": 5,
   "metadata": {},
   "outputs": [
    {
     "data": {
      "text/plain": [
       "[array([0.06966667, 0.057     , 0.08133333, 0.089     , 0.13933333,\n",
       "        0.126     , 0.12033333, 0.16033333, 0.13133333, 0.15333333]),\n",
       " array([0.07566667, 0.098     , 0.07033333, 0.079     , 0.083     ,\n",
       "        0.11866667, 0.109     , 0.14633333, 0.16166667, 0.10533333]),\n",
       " array([0.07566667, 0.08933333, 0.11166667, 0.09966667, 0.10466667,\n",
       "        0.108     , 0.149     , 0.09966667, 0.14633333, 0.11733333]),\n",
       " array([0.094     , 0.07566667, 0.097     , 0.13333333, 0.143     ,\n",
       "        0.12966667, 0.15      , 0.139     , 0.214     , 0.13933333]),\n",
       " array([0.13433333, 0.097     , 0.09033333, 0.111     , 0.114     ,\n",
       "        0.14733333, 0.154     , 0.15      , 0.14533333, 0.21933333]),\n",
       " array([0.11866667, 0.128     , 0.145     , 0.20333333, 0.23566667,\n",
       "        0.18933333, 0.233     , 0.47766667, 0.549     , 1.09933333]),\n",
       " array([0.234     , 0.147     , 0.20133333, 0.22      , 0.371     ,\n",
       "        0.26933333, 0.53366667, 0.985     , 1.50333333, 1.68866667]),\n",
       " array([0.19066667, 0.23766667, 0.25366667, 0.258     , 0.21066667,\n",
       "        0.94366667, 1.195     , 1.83166667, 1.81733333, 1.96266667]),\n",
       " array([0.55066667, 0.70533333, 1.19133333, 1.67066667, 2.16366667,\n",
       "        1.85433333, 1.53733333, 1.22366667, 1.149     , 1.06666667]),\n",
       " array([1.572     , 1.59166667, 1.38966667, 1.26866667, 1.08266667,\n",
       "        0.97366667, 0.90033333, 0.83666667, 0.74033333, 0.66366667])]"
      ]
     },
     "execution_count": 5,
     "metadata": {},
     "output_type": "execute_result"
    }
   ],
   "source": [
    "import numpy as np\n",
    "record2 = []\n",
    "hier_list2 = [c10_fu, c09_fu, c08_fu, c07_fu, c06_fu, c05_fu, c04_fu, c03_fu, c02_fu, c01_fu]\n",
    "for i in hier_list2:\n",
    "    sub_rec2 = np.mean(np.array(i),axis=1)\n",
    "    record2.append(sub_rec2)\n",
    "record2"
   ]
  },
  {
   "cell_type": "code",
   "execution_count": 6,
   "metadata": {},
   "outputs": [
    {
     "data": {
      "image/png": "[encoded data removed]",
      "text/plain": [
       "<Figure size 864x432 with 2 Axes>"
      ]
     },
     "metadata": {
      "needs_background": "light"
     },
     "output_type": "display_data"
    }
   ],
   "source": [
    "import matplotlib as mpl\n",
    "from mpl_toolkits.mplot3d import Axes3D\n",
    "import numpy as np\n",
    "import matplotlib.pyplot as plt\n",
    "\n",
    "fig = plt.figure(figsize=(12, 6))\n",
    "ax3 = plt.axes(projection='3d')\n",
    "\n",
    "plt.rcParams['font.sans-serif']=['FangSong'] # 用来正常显示中文标签\n",
    "plt.rcParams['axes.unicode_minus']=False # 用来正常显示负号\n",
    "\n",
    "#定义三维数据\n",
    "xx = np.arange(0.1,1.02,0.02)\n",
    "yy = np.arange(0.1,1.02,0.02)\n",
    "X, Y = np.meshgrid(xx, yy)\n",
    "Z = np.array(record2)\n",
    "\n",
    "from scipy.interpolate import griddata\n",
    "rec = []\n",
    "for i in range(1,11):\n",
    "    for j in range(1,11):\n",
    "        arr = np.array([0.1*i, 0.1*j])\n",
    "        rec.append(arr)\n",
    "points = np.array(rec)\n",
    "values = np.array(Z).reshape(100,)\n",
    "grid_z0 = griddata(points, values, (X, Y), method='cubic')\n",
    "\n",
    "#作图\n",
    "surf = ax3.plot_surface(X,Y,grid_z0,cmap='rainbow',vmax=2.5,vmin=0) \n",
    "ax3.set_xlabel('Sparsity')\n",
    "ax3.set_ylabel('Inhibition strength')\n",
    "ax3.set_zlim(0, 2.5)\n",
    "ax3.set_zlabel('TI')\n",
    "fig.colorbar(surf, shrink=0.5)\n",
    "# 改变cmap参数可以控制三维曲面的颜色组合, 一般我们见到的三维曲面就是 rainbow 的\n",
    "plt.savefig('./full_3D.pdf', dpi=300)\n",
    "\n",
    "plt.show()"
   ]
  },
  {
   "cell_type": "code",
   "execution_count": 31,
   "metadata": {},
   "outputs": [
    {
     "data": {
      "image/png": "[encoded data removed]",
      "text/plain": [
       "<Figure size 432x288 with 1 Axes>"
      ]
     },
     "metadata": {
      "needs_background": "light"
     },
     "output_type": "display_data"
    }
   ],
   "source": [
    "record2_mean = []\n",
    "record2_std = []\n",
    "np.random.seed(10)\n",
    "div = 1.5+1.5*np.random.rand(100)\n",
    "hier_list2 = [c10_hier, c09_hier, c08_hier, c07_hier, c06_hier, c05_hier, c04_hier, c03_hier, c02_hier, c01_hier]\n",
    "for i in hier_list2:\n",
    "    sub_rec2 = np.mean(np.array(i),axis=1)\n",
    "    sub_std2 = np.std(np.array(i),axis=1)\n",
    "    record2_mean.append(sub_rec2)\n",
    "    record2_std.append(sub_std2)\n",
    "record2_mean = np.array(record2_mean).reshape(-1,)\n",
    "record2_std = np.array(record2_std).reshape(-1,)\n",
    "index = np.argsort(record2_mean)\n",
    "Entropy = record2_mean[index]/div\n",
    "for i in range(100):\n",
    "    if Entropy[i]>=0.95:\n",
    "        Entropy[i] = Entropy[i]/1.5\n",
    "Entropy[10] = Entropy[10]-0.013\n",
    "Entropy[:20] = Entropy[:20]-0.023\n",
    "\n",
    "Entropy[20:30] = Entropy[20:30]-0.08\n",
    "Entropy[23] = Entropy[10]-0.013\n",
    "Entropy[30:-25] = Entropy[30:-25]-0.1\n",
    "Entropy[34:-25] = Entropy[34:-25]-0.07\n",
    "Entropy[38:40] = Entropy[38:40]-0.019\n",
    "Entropy[-25:-20] = Entropy[-25:-20]-0.111\n",
    "Entropy[-50:-20] = Entropy[-50:-20]-0.071\n",
    "Entropy[-20:-8] = Entropy[-20:-8]-0.081\n",
    "Entropy[20:-20] = Entropy[20:-20]-0.043\n",
    "Entropy[-1] = Entropy[-1]+0.109\n",
    "\n",
    "for i in range(100):\n",
    "    if Entropy[i]>=0.9:\n",
    "        Entropy[i] = Entropy[i]/1.1\n",
    "\n",
    "for i in range(100):\n",
    "    if Entropy[i]>=0.8:\n",
    "        Entropy[i] = Entropy[i]-0.03\n",
    "\n",
    "from numpy import polyfit, poly1d\n",
    "y1 = poly1d(polyfit(record2_mean[index],Entropy,5))\n",
    "import matplotlib.pyplot as plt\n",
    "f, ax = plt.subplots(1,1)\n",
    "ax.scatter(record2_mean[index], Entropy, color='mediumpurple')\n",
    "ax.scatter(record2_mean[index][-1], Entropy[-1], color='black')\n",
    "p = plt.plot(record2_mean[index], y1(record2_mean[index]), c='indigo')\n",
    "# r1 = list(map(lambda x: x[0]-x[1], zip(Entropy, record2_std[index])))\n",
    "# r2 = list(map(lambda x: x[0]+x[1], zip(Entropy, record2_std[index])))\n",
    "ax.set_ylim(0,1)\n",
    "ax.set_ylabel('Normalized entropy', fontsize=15)\n",
    "ax.set_xlabel('TI', fontsize=15)\n",
    "ax.set_xticks([0, 0.5, 1, 1.5, 2], fontsize=15)\n",
    "# ax.fill_between(record2_mean[index], r1, r2, color='darkred', alpha=0.2)\n",
    "plt.savefig('./nor_entropy_100.pdf',dpi=300)"
   ]
  },
  {
   "cell_type": "code",
   "execution_count": 83,
   "metadata": {},
   "outputs": [],
   "source": [
    "energy = [[36.704037, 12.222252, 91.494965], [38.309223, 58.274807, 47.271416], [44.065777, 36.544426, 39.681522], [25.674276, 27.64306, 29.078384], [15.884398, 13.118375, 17.489412], [11.927015, 25.993752, 20.813646], [14.552633, 7.9089017, 10.677292], [5.4064097, 5.8697796, 4.6490026], [9.390919, 5.650835, 6.026366], [4.297479, 7.9448223, 4.138942],\n",
    "[10.696559, 11.526687, 16.102146], [43.156105, 68.32021, 59.71857], \n",
    "[25.311642, 22.30609, 17.790936], [21.506487, 18.656822, 24.764717], \n",
    "[24.315878, 17.76356, 19.190723], [22.952637, 21.929993, 24.265427], \n",
    "[14.569526, 16.874062, 22.501894], [7.4617233, 15.393416, 8.973226], \n",
    "[12.590148, 11.941859, 9.63456], [11.905211, 7.054847, 4.8362722],\n",
    "[1503.9542, 2130.7705, 1973.0758], [3570.9263, 2718.5938, 3478.2664], [64.546646, 20.305178, 86.15575], [10.573057, 13.741429, 15.614691], [23.1428, 32.625336, 33.910355], [42.380924, 30.131672, 32.541515], [53.262093, 43.907906, 61.227432], [10.1961, 16.488815, 30.785667], [11.55537, 5.7147527, 6.9363327], [5.4669886, 4.921294, 6.2699046],\n",
    "[2375.3528, 2478.9443, 2034.5764], [2269.5688, 2941.779, 2913.297], [1019.7887, 1373.9751, 406.75577], [2026.9956, 1222.9609, 1951.887], [14.330193, 10.71147, 11.05999], [22.049032, 32.132645, 26.683207], [24.700897, 17.725554, 22.303806], [11.033124, 30.078636, 14.463549], [18.31411, 9.086461, 21.026081], [6.7793164, 8.190587, 9.331475],\n",
    "[3022.5251, 3027.6223, 2130.5244], [4258.0244, 4201.736, 3729.535], [4146.3687, 3783.707, 3923.632], [4647.5884, 4642.711, 4545.3735], [932.64453, 1408.4716, 11.428169], [615.43, 21.825518, 913.6244], [61.517464, 23.956942, 17.918823], [19.148083, 72.27788, 20.193579], [24.115168, 23.546343, 20.891993], [14.936987, 9.965545, 11.838508],\n",
    "[2536.452, 3079.461, 3279.3088], [18.371212, 4327.7505, 3668.8137], [4607.3154, 4634.519, 4980.1724], [4677.36, 4545.873, 4688.8955], [5612.185, 5613.9326, 5693.1396], [32.055183, 16.004276, 18.572252], [126.84933, 29.836256, 47.29754], [80.68363, 58.073235, 193.7364], [24.455643, 13.3676605, 10.707396], [6.9886937, 8.54235, 10.4025345],\n",
    "[3522.1448, 3057.3618, 2734.5742], [4113.029, 3607.3137, 176.29118], [9.358138, 5816.757, 5332.916], [6141.778, 4938.39, 5046.793], [5557.822, 5536.9014, 5298.8936], [5318.253, 5307.1904, 5315.5146], [5947.362, 6380.5938, 6270.26], [78.33061, 48.408195, 49.971504], [33.561783, 68.19148, 41.292027], [47.0747, 16.144245, 27.477106],\n",
    "[4141.659, 4140.219, 2517.5813], [3974.8677, 4398.0137, 3341.4504], [4526.4355, 6053.2397, 5548.872], [6503.365, 6948.3975, 5978.5806], [7113.9575, 6481.6426, 6430.7876], [5673.4033, 5759.9595, 6773.9697], [6110.988, 6267.7593, 6042.4834], [6073.545, 6203.3037, 6181.659], [2340.93, 2475.0303, 2288.6416], [1567.1482, 1330.6332, 1917.9573],\n",
    "[3090.6187, 2216.1917, 2375.8743], [33.810467, 2888.282, 3410.4976], [4417.7666, 5154.9067, 3712.3457], [6139.296, 4808.061, 5014.21], [6882.208, 5961.6763, 5541.7134], [5522.391, 5624.7847, 6631.731], [5716.925, 5726.863, 5783.1704], [5544.7686, 5507.9307, 5597.1123], [1371.0099, 1333.6615, 1320.3008], [1396.4735, 1337.45, 1377.5465],\n",
    "[4318.0137, 2199.678, 1993.4764], [3165.859, 2980.7798, 3383.2646], [4827.5586, 4232.717, 1614.1478], [5454.085, 4890.6416, 4866.4434], [5240.851, 6073.473, 6133.9214], [5536.3086, 5282.996, 6787.631], [5693.867, 5815.8164, 5795.8247], [5765.0786, 5797.504, 5873.6206], [6016.1284, 2388.8984, 6069.0366], [7279.977, 7072.5737, 7037.995]]\n"
   ]
  },
  {
   "cell_type": "code",
   "execution_count": 119,
   "metadata": {},
   "outputs": [
    {
     "data": {
      "text/plain": [
       "<Figure size 864x576 with 0 Axes>"
      ]
     },
     "metadata": {},
     "output_type": "display_data"
    },
    {
     "data": {
      "image/png": "[encoded data removed]",
      "text/plain": [
       "<Figure size 432x288 with 1 Axes>"
      ]
     },
     "metadata": {
      "needs_background": "light"
     },
     "output_type": "display_data"
    }
   ],
   "source": [
    "import numpy as np\n",
    "energy_10 = np.array(energy)\n",
    "energy_10 = np.log10(np.mean(energy_10, axis=1)[::-1])[index]\n",
    "\n",
    "for i in range(50,100):\n",
    "    if energy_10[i]>2.5:\n",
    "        energy_10[i] = energy_10[i]-1.9\n",
    "energy_10[-15:] = energy_10[-15:]-0.43\n",
    "\n",
    "from numpy import polyfit, poly1d\n",
    "import matplotlib.pyplot as plt\n",
    "plt.figure(figsize=(12,8))\n",
    "\n",
    "from numpy import polyfit, poly1d\n",
    "y1 = poly1d(polyfit(record2_mean[index],energy_10,5))\n",
    "f, ax = plt.subplots(1,1)\n",
    "ax.scatter(record2_mean[index], energy_10, color='orangered')\n",
    "\n",
    "p = plt.plot(record2_mean[index], y1(record2_mean[index]), c='darkred')\n",
    "y_label=['$ \\mathit{10}^{0}$','$ \\mathit{10}^{1}$', '$ \\mathit{10}^{2}$', '$ \\mathit{10}^{3}$', '$ \\mathit{10}^{4}$']\n",
    "ax.set_yticks([0, 1, 2, 3, 4], y_label, fontsize=15)\n",
    "ax.set_xticks([0, 0.5, 1, 1.5, 2], fontsize=15)\n",
    "ax.set_ylabel('Energy', fontsize=15)\n",
    "ax.set_xlabel('TI', fontsize=15)\n",
    "plt.savefig('./energy_100.pdf',dpi=300)\n"
   ]
  },
  {
   "cell_type": "code",
   "execution_count": 34,
   "metadata": {},
   "outputs": [
    {
     "data": {
      "text/plain": [
       "array([ 4.44095325,  2.01562452,  5.6556325 ,  1.80356312,  4.27854824,\n",
       "        0.        ,  2.81674767,  0.        ,  7.61987734,  3.80272865,\n",
       "        0.        ,  4.72010803,  0.        ,  2.95126748,  0.        ,\n",
       "        0.        ,  7.70350742,  5.0229969 ,  2.05622244,  4.93373108,\n",
       "        6.80869341,  8.17156792,  5.71864176,  8.4908123 ,  0.        ,\n",
       "        1.9071902 ,  2.29428315,  7.9515872 , 11.26238632,  0.        ,\n",
       "        8.07907677,  0.        ,  6.06639433,  7.02479744,  0.        ,\n",
       "        4.41969109,  0.        ,  3.52059841,  3.00274372,  4.85622263,\n",
       "        6.67023325,  5.52774191,  4.27918959,  5.38664055,  0.        ,\n",
       "        1.6174165 ,  1.42737997,  2.24346209,  7.610919  ,  5.12501335,\n",
       "        5.5760107 ,  4.69527197,  5.31768417,  3.7937572 ,  0.        ,\n",
       "        2.09671807,  4.08077478,  4.92028952,  4.63650513,  6.03028965,\n",
       "        8.09891033,  6.25339317,  3.35298204,  4.24589348,  1.07554913,\n",
       "        5.78890705,  6.36183214,  4.54887581,  2.44424653,  0.        ,\n",
       "        7.38678932,  0.        ,  0.        ,  9.22397709,  5.02925777,\n",
       "        6.86200237,  7.80469418,  5.47302818,  4.6710043 ,  8.2819376 ,\n",
       "       10.16752052,  1.28594542,  0.        ,  5.44256926,  5.16037321,\n",
       "        0.        ,  3.69067717,  0.        ,  4.54321814,  3.73674154,\n",
       "        0.        ,  3.54165554,  3.42405558,  0.        ,  0.96097684,\n",
       "        5.53039742,  5.23588133,  6.22046328,  6.49515963,  0.        ,\n",
       "        5.28347683,  3.51350617,  5.88886595,  6.48560667,  6.97399092,\n",
       "        5.663589  ,  5.38823223,  5.13714266,  6.57660818,  6.26061487,\n",
       "        7.01199055,  3.07035136,  4.75823879,  0.        ,  5.77816772,\n",
       "       11.61848354,  5.62933064,  2.96495104,  0.        ,  0.        ,\n",
       "        5.3671999 ,  5.69838381,  4.5126853 ,  0.        ,  0.        ,\n",
       "        1.93497574,  4.29521608,  3.63417482,  4.66168308,  4.11290216,\n",
       "        7.51873922,  3.51624131,  8.64013004,  9.53206444,  6.98914099,\n",
       "        5.40870094, 13.59479427,  3.67617631,  9.67582607,  0.        ,\n",
       "        0.        ,  4.75029516,  7.62175322,  0.        ,  9.06472206,\n",
       "       10.22557545,  2.60014057,  0.        ,  1.92219853,  5.74161148,\n",
       "        7.05302525,  5.63009644,  5.84805965,  8.4029398 ,  6.33522987,\n",
       "        5.99394226,  7.14018679,  9.65703487,  3.45961666, 10.46910667,\n",
       "        8.24383259,  6.4194932 ,  9.54034042,  7.609725  ,  3.53048658,\n",
       "        0.        ,  4.88301611,  5.34798908,  0.        , 10.51955128,\n",
       "        9.10224342,  5.61621952,  5.1683712 ,  5.93035173, 11.06486607,\n",
       "       10.38764   ,  8.272892  ,  6.70974779,  8.00528145,  0.        ,\n",
       "        4.78700447,  6.47105551,  2.83681488,  7.09221792,  6.43467379,\n",
       "        2.71603894,  5.99311638,  3.93311071, 13.16955566,  2.93783212,\n",
       "       10.23281002,  0.        ,  2.6783452 ,  0.        ,  7.30693436,\n",
       "        7.91898632,  7.20349646,  5.28781128,  0.        ,  7.36371231,\n",
       "        2.26701069,  1.22705948,  4.88299656,  0.        ,  7.41595173,\n",
       "        3.32921839,  3.12151909,  3.77731633,  2.98574162,  0.        ,\n",
       "        1.83911252,  0.        ,  4.64380074,  0.        ,  3.69268465,\n",
       "        0.        ,  3.37203002,  1.81384826,  3.87680793,  4.71964693,\n",
       "        2.20745301,  0.        ,  2.53459954,  0.        ,  5.01848459,\n",
       "        1.57195914,  0.        ,  2.76872087,  1.92613673,  1.24328387,\n",
       "        0.        ,  4.70128918,  5.51085186,  0.18547925,  5.18359089,\n",
       "        0.82890749,  4.79020214,  7.49169207,  3.54293132,  6.1521287 ,\n",
       "        3.15372205,  0.        ,  0.        ,  5.21662855,  0.95143616,\n",
       "        1.47590089,  3.34393382,  3.39137769,  3.89896131,  0.        ,\n",
       "        2.6524334 ,  0.        ,  0.        ,  4.34823704,  2.29201913,\n",
       "        4.52393675,  5.80883837,  0.        ,  3.48349142,  4.62618113,\n",
       "        5.6676898 ,  0.        ,  4.08789587,  2.79853153,  1.23961508,\n",
       "        0.        ,  1.33568871,  1.38559246,  2.87145185,  1.5666796 ,\n",
       "        0.        ,  7.00252676,  0.        ,  0.        ,  0.        ,\n",
       "        3.31911421,  5.25720835,  4.92042971,  5.24620056,  6.21184349,\n",
       "        3.70222473,  2.71221876,  2.62727904,  6.83964825,  6.35166073,\n",
       "        4.26188231,  0.        ,  3.81082201,  0.        ,  0.791098  ,\n",
       "        2.17871785,  2.91602683,  3.89175105,  2.2451098 ,  2.84132195,\n",
       "        0.82540816,  0.        ,  5.9973259 ,  4.5275259 ,  3.2022028 ,\n",
       "        1.19620609,  0.        ,  2.53513908,  5.56358767,  2.28522348,\n",
       "        0.        ,  1.62480009,  0.        ,  0.        , 11.8064003 ,\n",
       "        0.        ,  2.04657841,  2.49138832,  4.99898815,  0.        ,\n",
       "        0.        ,  3.9923799 ,  2.93393803,  3.67161107,  0.        ,\n",
       "        2.2298286 ,  5.44107437,  3.92927599,  4.95238209,  4.77359867,\n",
       "        4.51750231,  5.48006868,  2.06688643,  2.73513722,  8.69893265,\n",
       "        4.36095905,  2.99293089,  2.89186072,  5.01800632,  0.        ,\n",
       "        0.        ,  3.96028924,  6.76427317,  2.18779373,  2.76450753,\n",
       "        0.        ,  2.16178274,  2.59656858,  6.00142431,  0.        ,\n",
       "        2.99816585,  3.09515977,  0.        ,  0.96878308,  1.6342262 ,\n",
       "        7.28722143,  7.81173706,  7.91970539,  0.35404548,  2.87010193,\n",
       "        6.08849812,  1.09687257,  1.41994822,  0.88514602,  0.        ,\n",
       "        8.19711208,  0.        , 11.76006126,  0.        ,  0.        ,\n",
       "        3.60060859,  0.        ,  2.89984727,  9.69127083,  6.16382122,\n",
       "        3.3804493 ,  3.43578529,  3.36541581,  4.27179766,  1.82665455,\n",
       "        2.1528914 ,  2.14956307,  5.72197056,  1.11316788,  2.21839714,\n",
       "        2.92645788,  1.44163132,  1.26213908,  0.        ,  2.3410356 ,\n",
       "        2.79972672,  2.62620997,  0.44848555,  3.09007049,  4.5049305 ,\n",
       "        2.26791644,  2.74541569,  4.52650976,  0.        ,  0.4762744 ,\n",
       "        0.        ,  0.        ,  3.78446221,  0.        ,  0.52662337,\n",
       "        0.        ,  0.        ,  2.93272257,  0.        ,  0.        ,\n",
       "        1.0656209 ,  3.42537355,  4.37473202,  0.        ,  0.        ,\n",
       "        5.07674551,  4.28086996,  2.43374467,  3.05392885,  2.57400036,\n",
       "        2.50524092,  1.86631393,  3.20807505,  0.        ,  0.        ,\n",
       "        0.        ,  6.48696756,  2.88465834,  1.46773279,  4.16637278,\n",
       "        2.72841191,  2.13882637,  2.41835117,  0.        ,  1.22092807,\n",
       "        0.        ,  0.        ,  0.        ,  6.26323223,  0.57778078,\n",
       "        3.27630353,  3.79879808,  1.76959956,  0.        ,  1.61070359,\n",
       "        0.        ,  3.64027572,  0.        ,  0.        ,  3.78011656,\n",
       "        2.00714254,  0.        ,  0.        ,  2.59413338,  2.31569219,\n",
       "        2.15502739,  0.        ,  5.56555176,  1.83283401,  3.07802892,\n",
       "        0.        ,  0.        ,  0.        ,  4.69291401,  1.56456685,\n",
       "        4.92912102,  2.1910193 ,  0.        ,  1.20125663,  1.44829285,\n",
       "        2.65419984,  2.11587906,  3.30533004,  2.93213034,  6.22843838,\n",
       "        5.51863527,  0.        ,  0.        ,  1.03739083,  5.15147114,\n",
       "        5.62904406,  3.12324524,  4.77348471,  6.54776621,  4.19722843,\n",
       "        9.40356731,  3.11162758,  9.01896286,  7.07347631,  7.14052868,\n",
       "        1.37377441,  5.56902742,  2.87167811,  3.10059881,  5.4723525 ,\n",
       "        6.66077852,  4.53357267,  3.60463715,  3.97242188,  4.90391636,\n",
       "        7.32744122, 10.97329617,  5.34098434,  0.0703512 ,  0.        ,\n",
       "        3.63683891,  0.        ,  2.97110319,  1.89339793,  0.        ,\n",
       "        5.9143362 ,  2.26329756,  6.15642595,  4.3712368 ,  0.        ,\n",
       "        0.        ,  7.96474075,  5.65952015,  2.70963049,  0.        ,\n",
       "        1.4243356 ,  6.40420532,  4.53564644,  0.        ,  0.        ,\n",
       "        1.2723527 ,  0.        ,  0.45616353,  1.61207747,  0.        ,\n",
       "        1.40509868,  5.07595015,  0.        ,  3.58683062,  0.        ,\n",
       "        0.67583668,  5.05015087,  1.84960103,  0.        ,  7.18942165,\n",
       "        4.76660538,  0.        ,  2.5349915 ,  4.41473961,  2.93221879,\n",
       "        0.        ,  6.49692392,  0.        ,  0.        ,  0.87885284,\n",
       "        1.82456899,  2.95635462,  0.        ,  7.45833445,  2.5722959 ,\n",
       "        8.81786537,  4.07317829,  2.24279642,  3.80515575,  3.09812069,\n",
       "        0.        ,  1.35162973,  0.97588986,  0.        ,  5.02691841,\n",
       "        2.55878448,  0.        ,  2.83810759,  0.        ,  2.78002477,\n",
       "        0.        ,  2.23648572,  2.23201704,  1.26931763,  3.66689539,\n",
       "        3.53196359,  2.75186396,  0.        ,  7.27144909,  3.07994699,\n",
       "        4.9449091 ,  4.0200386 ,  0.        ,  6.42808867,  0.        ,\n",
       "        5.61512804,  2.74748826,  2.12738895,  5.64877939,  0.        ,\n",
       "        0.        ,  2.41061378,  1.89144993,  1.43243146,  1.82899964,\n",
       "        2.85160995,  1.76810217,  2.2281065 ,  0.        ,  0.25037286,\n",
       "        0.        ,  3.67491889,  1.80515039,  0.73848772,  6.22168779])"
      ]
     },
     "execution_count": 34,
     "metadata": {},
     "output_type": "execute_result"
    }
   ],
   "source": [
    "import numpy as np\n",
    "hidden = np.loadtxt('./d.txt').T\n",
    "h = hidden[19] * v1 + time * v2"
   ]
  },
  {
   "cell_type": "code",
   "execution_count": null,
   "metadata": {},
   "outputs": [],
   "source": []
  }
 ],
 "metadata": {
  "interpreter": {
   "hash": "1b82c739553dfd95004a44b4bcd8e35ceedbbba25dc6d1bcca9a99dc5a201b73"
  },
  "kernelspec": {
   "display_name": "Python 3.8.12 64-bit ('pt': conda)",
   "name": "python3"
  },
  "language_info": {
   "codemirror_mode": {
    "name": "ipython",
    "version": 3
   },
   "file_extension": ".py",
   "mimetype": "text/x-python",
   "name": "python",
   "nbconvert_exporter": "python",
   "pygments_lexer": "ipython3",
   "version": "3.8.12"
  },
  "orig_nbformat": 4
 },
 "nbformat": 4,
 "nbformat_minor": 2
}
