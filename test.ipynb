{
 "cells": [
  {
   "cell_type": "code",
   "execution_count": 58,
   "metadata": {},
   "outputs": [
    {
     "name": "stdout",
     "output_type": "stream",
     "text": [
      "\"/home/jiashuncheng/code/Trasient/RL/train_dir/df_mg_600/20240116_MortarMayhemOA_v19_myrnn_alpha0.98_gate0_0.1__distribution0_lr2e-4_seed6_600/.summary/0/events.out.tfevents.1706955952.amax\",\n",
      "\"/home/jiashuncheng/code/Trasient/RL/train_dir/df_mg_600/20240116_MortarMayhemOA_v19_myrnn_alpha0.98_gate0_0.1__distribution0_lr2e-4_seed3_600/.summary/0/events.out.tfevents.1706938446.amax\",\n",
      "\"/home/jiashuncheng/code/Trasient/RL/train_dir/df_mg_600/20240116_MortarMayhemOA_v19_myrnn_alpha0.98_gate0_0.1__distribution0_lr2e-4_seed5_600/.summary/0/events.out.tfevents.1706955951.amax\",\n"
     ]
    }
   ],
   "source": [
    "import os\n",
    "folder = '/home/jiashuncheng/code/Trasient/RL/train_dir/df_mg_600'\n",
    "for dirpath, dirnames, filenames in os.walk(folder):\n",
    "    for dir in dirnames:\n",
    "        if 'gate0' in dir and 'n0' in dir and 'no_' not in dir and ('d6' in dir or 'd5' in dir or 'd3' in dir):\n",
    "            for dirpath1, dirnames1, filenames1 in os.walk(os.path.join(dirpath, dir)):\n",
    "                for filename in filenames1:\n",
    "                    if 'event' in filename:\n",
    "                        print('\"'+os.path.join(dirpath1, filename)+'\"'+',')"
   ]
  }
 ],
 "metadata": {
  "kernelspec": {
   "display_name": "sample-factory",
   "language": "python",
   "name": "python3"
  },
  "language_info": {
   "codemirror_mode": {
    "name": "ipython",
    "version": 3
   },
   "file_extension": ".py",
   "mimetype": "text/x-python",
   "name": "python",
   "nbconvert_exporter": "python",
   "pygments_lexer": "ipython3",
   "version": "3.8.16"
  }
 },
 "nbformat": 4,
 "nbformat_minor": 2
}
